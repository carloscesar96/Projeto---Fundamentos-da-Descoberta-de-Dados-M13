{
 "cells": [
  {
   "cell_type": "markdown",
   "metadata": {
    "id": "VOTu7U3Mvxzq"
   },
   "source": [
    "# **MÓDULO 13**\n",
    "# Projeto - Fundamentos da Descoberta de Dados"
   ]
  },
  {
   "cell_type": "markdown",
   "metadata": {
    "id": "-HYgkdAywLd0"
   },
   "source": [
    "Nesse projeto trabalharemos com a base de dados de produtos de um supermercado do Chile.\n",
    "A ideia é que vocês apliquem os conceitos estatísticos vistos no último módulo, mais os conceitos de visualizações de dados através de gráficos e finalizem publicando no seu github!"
   ]
  },
  {
   "cell_type": "code",
   "execution_count": 41,
   "metadata": {
    "id": "OTdTnbzUwE2X"
   },
   "outputs": [],
   "source": [
    "import pandas as pd\n",
    "import matplotlib.pyplot as plt\n",
    "import plotly.express as px\n",
    "import seaborn as sns\n",
    "import plotly.express as px"
   ]
  },
  {
   "cell_type": "markdown",
   "metadata": {
    "id": "ky1Dk_KWywEa"
   },
   "source": [
    "Faça a leitura dos dados do arquivo CSV:\n",
    "\n",
    "\n",
    "Altere o código abaixo de acordo com seu diretório."
   ]
  },
  {
   "cell_type": "code",
   "execution_count": 4,
   "metadata": {
    "colab": {
     "base_uri": "https://localhost:8080/",
     "height": 363
    },
    "id": "bRBFyVB5wlny",
    "outputId": "cde5190b-fecf-48f8-e98c-5ec7e469bcfb"
   },
   "outputs": [
    {
     "data": {
      "text/html": [
       "<div>\n",
       "<style scoped>\n",
       "    .dataframe tbody tr th:only-of-type {\n",
       "        vertical-align: middle;\n",
       "    }\n",
       "\n",
       "    .dataframe tbody tr th {\n",
       "        vertical-align: top;\n",
       "    }\n",
       "\n",
       "    .dataframe thead th {\n",
       "        text-align: right;\n",
       "    }\n",
       "</style>\n",
       "<table border=\"1\" class=\"dataframe\">\n",
       "  <thead>\n",
       "    <tr style=\"text-align: right;\">\n",
       "      <th></th>\n",
       "      <th>title</th>\n",
       "      <th>Marca</th>\n",
       "      <th>Preco_Normal</th>\n",
       "      <th>Preco_Desconto</th>\n",
       "      <th>Preco_Anterior</th>\n",
       "      <th>Desconto</th>\n",
       "      <th>Categoria</th>\n",
       "    </tr>\n",
       "  </thead>\n",
       "  <tbody>\n",
       "    <tr>\n",
       "      <th>0</th>\n",
       "      <td>Pack 12 un, Leche extra proteína 1 L</td>\n",
       "      <td>Loncoleche</td>\n",
       "      <td>19788</td>\n",
       "      <td>0</td>\n",
       "      <td>0</td>\n",
       "      <td>0</td>\n",
       "      <td>lacteos</td>\n",
       "    </tr>\n",
       "    <tr>\n",
       "      <th>1</th>\n",
       "      <td>Pack 12 un, Leche chocolate receta original 1 L</td>\n",
       "      <td>Soprole</td>\n",
       "      <td>18228</td>\n",
       "      <td>0</td>\n",
       "      <td>0</td>\n",
       "      <td>0</td>\n",
       "      <td>lacteos</td>\n",
       "    </tr>\n",
       "    <tr>\n",
       "      <th>2</th>\n",
       "      <td>Pack 12 un, Leche semidescremada chocolate 1 L</td>\n",
       "      <td>Soprole</td>\n",
       "      <td>18228</td>\n",
       "      <td>0</td>\n",
       "      <td>0</td>\n",
       "      <td>0</td>\n",
       "      <td>lacteos</td>\n",
       "    </tr>\n",
       "    <tr>\n",
       "      <th>3</th>\n",
       "      <td>Pack 12 un, Leche semidescremada frutilla 1 L</td>\n",
       "      <td>Soprole</td>\n",
       "      <td>18228</td>\n",
       "      <td>0</td>\n",
       "      <td>0</td>\n",
       "      <td>0</td>\n",
       "      <td>lacteos</td>\n",
       "    </tr>\n",
       "    <tr>\n",
       "      <th>4</th>\n",
       "      <td>Pack 12 un, Leche sin lactosa chocolate 1 L</td>\n",
       "      <td>Loncoleche</td>\n",
       "      <td>17988</td>\n",
       "      <td>0</td>\n",
       "      <td>0</td>\n",
       "      <td>0</td>\n",
       "      <td>lacteos</td>\n",
       "    </tr>\n",
       "    <tr>\n",
       "      <th>5</th>\n",
       "      <td>Pack 12 un, Leche sin lactosa frutilla 1 L</td>\n",
       "      <td>Loncoleche</td>\n",
       "      <td>17988</td>\n",
       "      <td>0</td>\n",
       "      <td>0</td>\n",
       "      <td>0</td>\n",
       "      <td>lacteos</td>\n",
       "    </tr>\n",
       "    <tr>\n",
       "      <th>6</th>\n",
       "      <td>Pack 12 un, Leche saborizada light chocolate 1 L</td>\n",
       "      <td>Loncoleche</td>\n",
       "      <td>17988</td>\n",
       "      <td>0</td>\n",
       "      <td>0</td>\n",
       "      <td>0</td>\n",
       "      <td>lacteos</td>\n",
       "    </tr>\n",
       "    <tr>\n",
       "      <th>7</th>\n",
       "      <td>Pack 12 un, Leche saborizada frutilla 1 L</td>\n",
       "      <td>Colun</td>\n",
       "      <td>17388</td>\n",
       "      <td>0</td>\n",
       "      <td>0</td>\n",
       "      <td>0</td>\n",
       "      <td>lacteos</td>\n",
       "    </tr>\n",
       "    <tr>\n",
       "      <th>8</th>\n",
       "      <td>Pack 12 un, Leche saborizada vainilla 1 L</td>\n",
       "      <td>Colun</td>\n",
       "      <td>17388</td>\n",
       "      <td>0</td>\n",
       "      <td>0</td>\n",
       "      <td>0</td>\n",
       "      <td>lacteos</td>\n",
       "    </tr>\n",
       "    <tr>\n",
       "      <th>9</th>\n",
       "      <td>Pack 12 un, Leche saborizada manjar 1 L</td>\n",
       "      <td>Colun</td>\n",
       "      <td>17388</td>\n",
       "      <td>0</td>\n",
       "      <td>0</td>\n",
       "      <td>0</td>\n",
       "      <td>lacteos</td>\n",
       "    </tr>\n",
       "  </tbody>\n",
       "</table>\n",
       "</div>"
      ],
      "text/plain": [
       "                                              title       Marca  Preco_Normal  \\\n",
       "0              Pack 12 un, Leche extra proteína 1 L  Loncoleche         19788   \n",
       "1   Pack 12 un, Leche chocolate receta original 1 L     Soprole         18228   \n",
       "2    Pack 12 un, Leche semidescremada chocolate 1 L     Soprole         18228   \n",
       "3     Pack 12 un, Leche semidescremada frutilla 1 L     Soprole         18228   \n",
       "4       Pack 12 un, Leche sin lactosa chocolate 1 L  Loncoleche         17988   \n",
       "5        Pack 12 un, Leche sin lactosa frutilla 1 L  Loncoleche         17988   \n",
       "6  Pack 12 un, Leche saborizada light chocolate 1 L  Loncoleche         17988   \n",
       "7         Pack 12 un, Leche saborizada frutilla 1 L       Colun         17388   \n",
       "8         Pack 12 un, Leche saborizada vainilla 1 L       Colun         17388   \n",
       "9           Pack 12 un, Leche saborizada manjar 1 L       Colun         17388   \n",
       "\n",
       "   Preco_Desconto  Preco_Anterior  Desconto Categoria  \n",
       "0               0               0         0   lacteos  \n",
       "1               0               0         0   lacteos  \n",
       "2               0               0         0   lacteos  \n",
       "3               0               0         0   lacteos  \n",
       "4               0               0         0   lacteos  \n",
       "5               0               0         0   lacteos  \n",
       "6               0               0         0   lacteos  \n",
       "7               0               0         0   lacteos  \n",
       "8               0               0         0   lacteos  \n",
       "9               0               0         0   lacteos  "
      ]
     },
     "execution_count": 4,
     "metadata": {},
     "output_type": "execute_result"
    }
   ],
   "source": [
    "df = pd.read_csv(r'C:\\Users\\cesar\\Downloads\\modulo7_projetofinal_base_supermercado.csv')\n",
    "\n",
    "df.head(10)"
   ]
  },
  {
   "cell_type": "markdown",
   "metadata": {
    "id": "YJgKJ7Nxwtw2"
   },
   "source": [
    "Os campos do nosso dataframe são:\n",
    "\n",
    "**Title:** Nome do produto.\n",
    "\n",
    "\n",
    "**Marca:** A marca do produto.\n",
    "\n",
    "\n",
    "**Preco_Normal:** O preço em que o produto costuma ser vendido quando não há desconto.\n",
    "\n",
    "\n",
    "**Preco_Desconto:** O preço vendido após o desconto ser aplicado.\n",
    "\n",
    "\n",
    "**Preco_Anterior:** Preço em que era comercializado o produto antes do desconto aplicado.\n",
    "\n",
    "\n",
    "**Desconto:** Total de desconto aplicado.\n",
    "\n",
    "\n",
    "\n",
    "\n",
    "\n",
    "\n",
    "As colunas que aparecem com valores 0 são para os produtos onde não tivemos descontos aplicados.\n",
    "\n",
    "\n",
    "As categorias estão em espanhol!"
   ]
  },
  {
   "cell_type": "markdown",
   "metadata": {
    "id": "4u6WBeyyy6ri"
   },
   "source": [
    "# 1 - Traga a média e a mediana dos preços - coluna Preco_Normal - por categoria de produto.\n",
    "# Identifique as categorias que parecem ter um valor de média abaixo ou acima da mediana."
   ]
  },
  {
   "cell_type": "code",
   "execution_count": 5,
   "metadata": {},
   "outputs": [
    {
     "data": {
      "text/html": [
       "<div>\n",
       "<style scoped>\n",
       "    .dataframe tbody tr th:only-of-type {\n",
       "        vertical-align: middle;\n",
       "    }\n",
       "\n",
       "    .dataframe tbody tr th {\n",
       "        vertical-align: top;\n",
       "    }\n",
       "\n",
       "    .dataframe thead th {\n",
       "        text-align: right;\n",
       "    }\n",
       "</style>\n",
       "<table border=\"1\" class=\"dataframe\">\n",
       "  <thead>\n",
       "    <tr style=\"text-align: right;\">\n",
       "      <th></th>\n",
       "      <th>Preco_Normal</th>\n",
       "      <th>Preco_Desconto</th>\n",
       "      <th>Preco_Anterior</th>\n",
       "      <th>Desconto</th>\n",
       "    </tr>\n",
       "  </thead>\n",
       "  <tbody>\n",
       "    <tr>\n",
       "      <th>count</th>\n",
       "      <td>1107.000000</td>\n",
       "      <td>1107.000000</td>\n",
       "      <td>1107.000000</td>\n",
       "      <td>1107.000000</td>\n",
       "    </tr>\n",
       "    <tr>\n",
       "      <th>mean</th>\n",
       "      <td>2070.997290</td>\n",
       "      <td>522.269196</td>\n",
       "      <td>372.257453</td>\n",
       "      <td>68.109304</td>\n",
       "    </tr>\n",
       "    <tr>\n",
       "      <th>std</th>\n",
       "      <td>2961.257627</td>\n",
       "      <td>1339.559852</td>\n",
       "      <td>1239.475017</td>\n",
       "      <td>241.158310</td>\n",
       "    </tr>\n",
       "    <tr>\n",
       "      <th>min</th>\n",
       "      <td>0.000000</td>\n",
       "      <td>0.000000</td>\n",
       "      <td>0.000000</td>\n",
       "      <td>0.000000</td>\n",
       "    </tr>\n",
       "    <tr>\n",
       "      <th>25%</th>\n",
       "      <td>0.000000</td>\n",
       "      <td>0.000000</td>\n",
       "      <td>0.000000</td>\n",
       "      <td>0.000000</td>\n",
       "    </tr>\n",
       "    <tr>\n",
       "      <th>50%</th>\n",
       "      <td>1269.000000</td>\n",
       "      <td>0.000000</td>\n",
       "      <td>0.000000</td>\n",
       "      <td>0.000000</td>\n",
       "    </tr>\n",
       "    <tr>\n",
       "      <th>75%</th>\n",
       "      <td>2849.000000</td>\n",
       "      <td>0.000000</td>\n",
       "      <td>0.000000</td>\n",
       "      <td>0.000000</td>\n",
       "    </tr>\n",
       "    <tr>\n",
       "      <th>max</th>\n",
       "      <td>19788.000000</td>\n",
       "      <td>14550.000000</td>\n",
       "      <td>18899.000000</td>\n",
       "      <td>4349.000000</td>\n",
       "    </tr>\n",
       "  </tbody>\n",
       "</table>\n",
       "</div>"
      ],
      "text/plain": [
       "       Preco_Normal  Preco_Desconto  Preco_Anterior     Desconto\n",
       "count   1107.000000     1107.000000     1107.000000  1107.000000\n",
       "mean    2070.997290      522.269196      372.257453    68.109304\n",
       "std     2961.257627     1339.559852     1239.475017   241.158310\n",
       "min        0.000000        0.000000        0.000000     0.000000\n",
       "25%        0.000000        0.000000        0.000000     0.000000\n",
       "50%     1269.000000        0.000000        0.000000     0.000000\n",
       "75%     2849.000000        0.000000        0.000000     0.000000\n",
       "max    19788.000000    14550.000000    18899.000000  4349.000000"
      ]
     },
     "metadata": {},
     "output_type": "display_data"
    },
    {
     "data": {
      "text/plain": [
       "'MÉDIA da coluna \"Preco_Normal\": 2070.9972899728996'"
      ]
     },
     "metadata": {},
     "output_type": "display_data"
    },
    {
     "data": {
      "text/plain": [
       "'MEDIANA da coluna \"Preco_Normal\": 1269.0'"
      ]
     },
     "metadata": {},
     "output_type": "display_data"
    }
   ],
   "source": [
    "#Análise exploratoria dos dados\n",
    "\n",
    "display(df.describe())\n",
    "display(f'MÉDIA da coluna \"Preco_Normal\": {df['Preco_Normal'].mean()}')\n",
    "display(f'MEDIANA da coluna \"Preco_Normal\": {df['Preco_Normal'].median()}')"
   ]
  },
  {
   "cell_type": "code",
   "execution_count": 6,
   "metadata": {
    "id": "E7B7FolOzVcJ",
    "scrolled": true
   },
   "outputs": [
    {
     "name": "stdout",
     "output_type": "stream",
     "text": [
      "MÉDIA\n"
     ]
    },
    {
     "data": {
      "text/plain": [
       "Categoria\n",
       "belleza-y-cuidado-personal    1783.556485\n",
       "comidas-preparadas            3095.043478\n",
       "congelados                    2108.042553\n",
       "frutas                        1724.473684\n",
       "instantaneos-y-sopas           765.491228\n",
       "lacteos                       2385.219239\n",
       "verduras                      1343.296875\n",
       "Name: Preco_Normal, dtype: float64"
      ]
     },
     "execution_count": 6,
     "metadata": {},
     "output_type": "execute_result"
    }
   ],
   "source": [
    "#Seu código aqui para a média\n",
    "print('MÉDIA')\n",
    "media_categoria = df.groupby('Categoria')['Preco_Normal'].mean()\n",
    "media_categoria"
   ]
  },
  {
   "cell_type": "code",
   "execution_count": 7,
   "metadata": {
    "id": "Rwf4V3hnzZwh"
   },
   "outputs": [
    {
     "name": "stdout",
     "output_type": "stream",
     "text": [
      "MEDIANA\n"
     ]
    },
    {
     "data": {
      "text/plain": [
       "Categoria\n",
       "belleza-y-cuidado-personal    1569.0\n",
       "comidas-preparadas            3290.0\n",
       "congelados                    1519.0\n",
       "frutas                        1195.0\n",
       "instantaneos-y-sopas           439.0\n",
       "lacteos                        989.0\n",
       "verduras                      1180.0\n",
       "Name: Preco_Normal, dtype: float64"
      ]
     },
     "execution_count": 7,
     "metadata": {},
     "output_type": "execute_result"
    }
   ],
   "source": [
    "#Seu código aqui para a mediana\n",
    "print('MEDIANA')\n",
    "mediana_categoria = df.groupby('Categoria')['Preco_Normal'].median()\n",
    "mediana_categoria"
   ]
  },
  {
   "cell_type": "code",
   "execution_count": 8,
   "metadata": {},
   "outputs": [
    {
     "data": {
      "text/html": [
       "<div>\n",
       "<style scoped>\n",
       "    .dataframe tbody tr th:only-of-type {\n",
       "        vertical-align: middle;\n",
       "    }\n",
       "\n",
       "    .dataframe tbody tr th {\n",
       "        vertical-align: top;\n",
       "    }\n",
       "\n",
       "    .dataframe thead th {\n",
       "        text-align: right;\n",
       "    }\n",
       "</style>\n",
       "<table border=\"1\" class=\"dataframe\">\n",
       "  <thead>\n",
       "    <tr style=\"text-align: right;\">\n",
       "      <th></th>\n",
       "      <th>mean</th>\n",
       "      <th>median</th>\n",
       "    </tr>\n",
       "    <tr>\n",
       "      <th>Categoria</th>\n",
       "      <th></th>\n",
       "      <th></th>\n",
       "    </tr>\n",
       "  </thead>\n",
       "  <tbody>\n",
       "    <tr>\n",
       "      <th>belleza-y-cuidado-personal</th>\n",
       "      <td>1783.556485</td>\n",
       "      <td>1569.0</td>\n",
       "    </tr>\n",
       "    <tr>\n",
       "      <th>comidas-preparadas</th>\n",
       "      <td>3095.043478</td>\n",
       "      <td>3290.0</td>\n",
       "    </tr>\n",
       "    <tr>\n",
       "      <th>congelados</th>\n",
       "      <td>2108.042553</td>\n",
       "      <td>1519.0</td>\n",
       "    </tr>\n",
       "    <tr>\n",
       "      <th>frutas</th>\n",
       "      <td>1724.473684</td>\n",
       "      <td>1195.0</td>\n",
       "    </tr>\n",
       "    <tr>\n",
       "      <th>instantaneos-y-sopas</th>\n",
       "      <td>765.491228</td>\n",
       "      <td>439.0</td>\n",
       "    </tr>\n",
       "    <tr>\n",
       "      <th>lacteos</th>\n",
       "      <td>2385.219239</td>\n",
       "      <td>989.0</td>\n",
       "    </tr>\n",
       "    <tr>\n",
       "      <th>verduras</th>\n",
       "      <td>1343.296875</td>\n",
       "      <td>1180.0</td>\n",
       "    </tr>\n",
       "  </tbody>\n",
       "</table>\n",
       "</div>"
      ],
      "text/plain": [
       "                                   mean  median\n",
       "Categoria                                      \n",
       "belleza-y-cuidado-personal  1783.556485  1569.0\n",
       "comidas-preparadas          3095.043478  3290.0\n",
       "congelados                  2108.042553  1519.0\n",
       "frutas                      1724.473684  1195.0\n",
       "instantaneos-y-sopas         765.491228   439.0\n",
       "lacteos                     2385.219239   989.0\n",
       "verduras                    1343.296875  1180.0"
      ]
     },
     "execution_count": 8,
     "metadata": {},
     "output_type": "execute_result"
    }
   ],
   "source": [
    "df.groupby('Categoria')['Preco_Normal'].agg(['mean', 'median'])"
   ]
  },
  {
   "cell_type": "markdown",
   "metadata": {
    "id": "nKBFOh-mzyWX"
   },
   "source": [
    "<h2>As categorias com média abaixo da mediana são: comidas-preparadas.\n",
    "As categorias com média acima da mediana são: beleza-e-cuidado-pessoal, congelados, frutas, instantâneos-e-sopas, lácteos e verduras.</h2>"
   ]
  },
  {
   "cell_type": "markdown",
   "metadata": {
    "id": "jdHZurzDzca0"
   },
   "source": [
    "# 2 - Traga o desvio padrão por categoria de produto.\n",
    "# Qual o comportamento da média e mediana nas categorias com maior desvio?"
   ]
  },
  {
   "cell_type": "code",
   "execution_count": 9,
   "metadata": {
    "id": "xEXT1gtoz135"
   },
   "outputs": [
    {
     "data": {
      "text/plain": [
       "Categoria\n",
       "belleza-y-cuidado-personal    2210.041719\n",
       "comidas-preparadas            2019.911428\n",
       "congelados                    2111.539896\n",
       "frutas                        1639.151114\n",
       "instantaneos-y-sopas          1170.232869\n",
       "lacteos                       3925.816164\n",
       "verduras                      1012.699625\n",
       "Name: Preco_Normal, dtype: float64"
      ]
     },
     "execution_count": 9,
     "metadata": {},
     "output_type": "execute_result"
    }
   ],
   "source": [
    "#Seu código aqui\n",
    "df.groupby('Categoria')['Preco_Normal'].std()\n"
   ]
  },
  {
   "cell_type": "code",
   "execution_count": 10,
   "metadata": {},
   "outputs": [
    {
     "data": {
      "text/html": [
       "<div>\n",
       "<style scoped>\n",
       "    .dataframe tbody tr th:only-of-type {\n",
       "        vertical-align: middle;\n",
       "    }\n",
       "\n",
       "    .dataframe tbody tr th {\n",
       "        vertical-align: top;\n",
       "    }\n",
       "\n",
       "    .dataframe thead th {\n",
       "        text-align: right;\n",
       "    }\n",
       "</style>\n",
       "<table border=\"1\" class=\"dataframe\">\n",
       "  <thead>\n",
       "    <tr style=\"text-align: right;\">\n",
       "      <th></th>\n",
       "      <th>std</th>\n",
       "      <th>mean</th>\n",
       "      <th>median</th>\n",
       "    </tr>\n",
       "    <tr>\n",
       "      <th>Categoria</th>\n",
       "      <th></th>\n",
       "      <th></th>\n",
       "      <th></th>\n",
       "    </tr>\n",
       "  </thead>\n",
       "  <tbody>\n",
       "    <tr>\n",
       "      <th>lacteos</th>\n",
       "      <td>3925.816164</td>\n",
       "      <td>2385.219239</td>\n",
       "      <td>989.0</td>\n",
       "    </tr>\n",
       "    <tr>\n",
       "      <th>belleza-y-cuidado-personal</th>\n",
       "      <td>2210.041719</td>\n",
       "      <td>1783.556485</td>\n",
       "      <td>1569.0</td>\n",
       "    </tr>\n",
       "    <tr>\n",
       "      <th>congelados</th>\n",
       "      <td>2111.539896</td>\n",
       "      <td>2108.042553</td>\n",
       "      <td>1519.0</td>\n",
       "    </tr>\n",
       "    <tr>\n",
       "      <th>comidas-preparadas</th>\n",
       "      <td>2019.911428</td>\n",
       "      <td>3095.043478</td>\n",
       "      <td>3290.0</td>\n",
       "    </tr>\n",
       "    <tr>\n",
       "      <th>frutas</th>\n",
       "      <td>1639.151114</td>\n",
       "      <td>1724.473684</td>\n",
       "      <td>1195.0</td>\n",
       "    </tr>\n",
       "    <tr>\n",
       "      <th>instantaneos-y-sopas</th>\n",
       "      <td>1170.232869</td>\n",
       "      <td>765.491228</td>\n",
       "      <td>439.0</td>\n",
       "    </tr>\n",
       "    <tr>\n",
       "      <th>verduras</th>\n",
       "      <td>1012.699625</td>\n",
       "      <td>1343.296875</td>\n",
       "      <td>1180.0</td>\n",
       "    </tr>\n",
       "  </tbody>\n",
       "</table>\n",
       "</div>"
      ],
      "text/plain": [
       "                                    std         mean  median\n",
       "Categoria                                                   \n",
       "lacteos                     3925.816164  2385.219239   989.0\n",
       "belleza-y-cuidado-personal  2210.041719  1783.556485  1569.0\n",
       "congelados                  2111.539896  2108.042553  1519.0\n",
       "comidas-preparadas          2019.911428  3095.043478  3290.0\n",
       "frutas                      1639.151114  1724.473684  1195.0\n",
       "instantaneos-y-sopas        1170.232869   765.491228   439.0\n",
       "verduras                    1012.699625  1343.296875  1180.0"
      ]
     },
     "execution_count": 10,
     "metadata": {},
     "output_type": "execute_result"
    }
   ],
   "source": [
    "df.groupby('Categoria')['Preco_Normal'].agg(['std', 'mean', 'median']).sort_values(by='std', ascending=False)\n"
   ]
  },
  {
   "cell_type": "code",
   "execution_count": 11,
   "metadata": {},
   "outputs": [
    {
     "data": {
      "text/html": [
       "<div>\n",
       "<style scoped>\n",
       "    .dataframe tbody tr th:only-of-type {\n",
       "        vertical-align: middle;\n",
       "    }\n",
       "\n",
       "    .dataframe tbody tr th {\n",
       "        vertical-align: top;\n",
       "    }\n",
       "\n",
       "    .dataframe thead th {\n",
       "        text-align: right;\n",
       "    }\n",
       "</style>\n",
       "<table border=\"1\" class=\"dataframe\">\n",
       "  <thead>\n",
       "    <tr style=\"text-align: right;\">\n",
       "      <th></th>\n",
       "      <th>std</th>\n",
       "      <th>mean</th>\n",
       "      <th>median</th>\n",
       "      <th>std_diferenca_mean</th>\n",
       "    </tr>\n",
       "    <tr>\n",
       "      <th>Categoria</th>\n",
       "      <th></th>\n",
       "      <th></th>\n",
       "      <th></th>\n",
       "      <th></th>\n",
       "    </tr>\n",
       "  </thead>\n",
       "  <tbody>\n",
       "    <tr>\n",
       "      <th>lacteos</th>\n",
       "      <td>3925.816164</td>\n",
       "      <td>2385.219239</td>\n",
       "      <td>989.0</td>\n",
       "      <td>1540.596925</td>\n",
       "    </tr>\n",
       "    <tr>\n",
       "      <th>comidas-preparadas</th>\n",
       "      <td>2019.911428</td>\n",
       "      <td>3095.043478</td>\n",
       "      <td>3290.0</td>\n",
       "      <td>-1075.132051</td>\n",
       "    </tr>\n",
       "    <tr>\n",
       "      <th>belleza-y-cuidado-personal</th>\n",
       "      <td>2210.041719</td>\n",
       "      <td>1783.556485</td>\n",
       "      <td>1569.0</td>\n",
       "      <td>426.485234</td>\n",
       "    </tr>\n",
       "    <tr>\n",
       "      <th>instantaneos-y-sopas</th>\n",
       "      <td>1170.232869</td>\n",
       "      <td>765.491228</td>\n",
       "      <td>439.0</td>\n",
       "      <td>404.741641</td>\n",
       "    </tr>\n",
       "    <tr>\n",
       "      <th>verduras</th>\n",
       "      <td>1012.699625</td>\n",
       "      <td>1343.296875</td>\n",
       "      <td>1180.0</td>\n",
       "      <td>-330.597250</td>\n",
       "    </tr>\n",
       "    <tr>\n",
       "      <th>frutas</th>\n",
       "      <td>1639.151114</td>\n",
       "      <td>1724.473684</td>\n",
       "      <td>1195.0</td>\n",
       "      <td>-85.322570</td>\n",
       "    </tr>\n",
       "    <tr>\n",
       "      <th>congelados</th>\n",
       "      <td>2111.539896</td>\n",
       "      <td>2108.042553</td>\n",
       "      <td>1519.0</td>\n",
       "      <td>3.497343</td>\n",
       "    </tr>\n",
       "  </tbody>\n",
       "</table>\n",
       "</div>"
      ],
      "text/plain": [
       "                                    std         mean  median  \\\n",
       "Categoria                                                      \n",
       "lacteos                     3925.816164  2385.219239   989.0   \n",
       "comidas-preparadas          2019.911428  3095.043478  3290.0   \n",
       "belleza-y-cuidado-personal  2210.041719  1783.556485  1569.0   \n",
       "instantaneos-y-sopas        1170.232869   765.491228   439.0   \n",
       "verduras                    1012.699625  1343.296875  1180.0   \n",
       "frutas                      1639.151114  1724.473684  1195.0   \n",
       "congelados                  2111.539896  2108.042553  1519.0   \n",
       "\n",
       "                            std_diferenca_mean  \n",
       "Categoria                                       \n",
       "lacteos                            1540.596925  \n",
       "comidas-preparadas                -1075.132051  \n",
       "belleza-y-cuidado-personal          426.485234  \n",
       "instantaneos-y-sopas                404.741641  \n",
       "verduras                           -330.597250  \n",
       "frutas                              -85.322570  \n",
       "congelados                            3.497343  "
      ]
     },
     "execution_count": 11,
     "metadata": {},
     "output_type": "execute_result"
    }
   ],
   "source": [
    "df_agrupado = df.groupby('Categoria')['Preco_Normal'].agg(['std', 'mean', 'median']).sort_values(by='std', ascending=False)\n",
    "df_agrupado['std_diferenca_mean'] = df_agrupado['std'] - df_agrupado['mean']\n",
    "df_agrupado.sort_values(by='std_diferenca_mean', ascending=False, key=abs)"
   ]
  },
  {
   "cell_type": "markdown",
   "metadata": {},
   "source": [
    "<h2>Há duas categorias com desvios padrão altos. A primeira é \"lácteos\", com um desvio padrão de 1540,5, e a segunda é \"comidas-preparadas\", com um desvio padrão de 1075,1.\n",
    "Em ambos os casos, há indícios da presença de outliers (valores discrepantes) nas categorias.</h2>"
   ]
  },
  {
   "cell_type": "markdown",
   "metadata": {
    "id": "4aW51rCHBr2w"
   },
   "source": [
    "# 3 - Plot um boxplot da distribuição do Preco_Normal para a categoria que você identificou que tem o maior desvio padrão. Como é a distribuição desses dados segundo o boxplot? Você identifica muitos outliers?"
   ]
  },
  {
   "cell_type": "markdown",
   "metadata": {
    "id": "kwPKkUZnEUSb"
   },
   "source": [
    "Dica: Para trazer apenas os dados da categoria que você deseja você pode usar o df.loc[df['Categoria'] == 'CATEGORIA ESCOLHIDA'"
   ]
  },
  {
   "cell_type": "code",
   "execution_count": 60,
   "metadata": {
    "id": "_02thblTCKEF"
   },
   "outputs": [
    {
     "data": {
      "image/png": "[encoded data removed]",
      "text/plain": [
       "<Figure size 1000x600 with 1 Axes>"
      ]
     },
     "metadata": {},
     "output_type": "display_data"
    }
   ],
   "source": [
    "#Seu código aqui\n",
    "# Certificar que os dados são numéricos\n",
    "# df['Limite_Credito'] = df['Limite_Credito'].astype(int)\n",
    "categoria = df.loc[df['Categoria'] == 'lacteos']\n",
    "# Criar boxplot\n",
    "plt.figure(figsize=(10,6))\n",
    "sns.boxplot(x='Preco_Normal', y='Categoria', data=categoria)\n",
    "\n",
    "# Personalização\n",
    "plt.title('Preço Normal da Maior Categoria com Desvio Padrão')\n",
    "plt.grid(True, linestyle='--', alpha=0.7)\n",
    "\n",
    "plt.xlabel('Preço Normal')\n",
    "plt.xticks(rotation=45)\n",
    "plt.tight_layout()\n",
    "plt.show()"
   ]
  },
  {
   "cell_type": "markdown",
   "metadata": {},
   "source": [
    "<h2>A grande maioria dos preços está acima da mediana, que é R$ 989,00, e há uma quantidade significativa de outliers.</h2>"
   ]
  },
  {
   "cell_type": "markdown",
   "metadata": {
    "id": "w5xgQBC_0Hg-"
   },
   "source": [
    "# 4 - Plote um gráfico de barras onde temos a média de descontos por categoria."
   ]
  },
  {
   "cell_type": "code",
   "execution_count": 38,
   "metadata": {},
   "outputs": [
    {
     "data": {
      "image/png": "[encoded data removed]",
      "text/plain": [
       "<Figure size 1000x600 with 1 Axes>"
      ]
     },
     "metadata": {},
     "output_type": "display_data"
    }
   ],
   "source": [
    "# Criando o gráfico de barras\n",
    "plt.figure(figsize=(10, 6))\n",
    "media_descontos_categoria = df.groupby('Categoria')['Preco_Desconto'].mean().sort_values(ascending=False)\n",
    "plt.bar(range(len(media_descontos_categoria)), media_descontos_categoria, color='lightgreen')\n",
    "#O primeiro argumento define a posição das barras ao longo do eixo x. Utilizamos range(len(salario_por_profissao)) para criar uma sequência numérica que representa as posições das barras,\n",
    "\n",
    "# Adicionando rótulos de dados, o loop do for itera cada indicec (i) e valor de salário do nosso df, o enumerate retornará o indice e o valor de cada elemento:\n",
    "for i, valor in enumerate(media_descontos_categoria):\n",
    "    plt.text(i, valor,  f'{valor:.1f}', ha='center', va='bottom', fontsize=10)\n",
    "\n",
    "# Restante do código para personalização do gráfico\n",
    "plt.title('Média de Descontos por Categoria', fontsize=16)\n",
    "plt.xlabel('Categoria', fontsize=12)\n",
    "plt.ylabel('Desconto', fontsize=12)\n",
    "plt.xticks(range(len(media_descontos_categoria)), media_descontos_categoria.index, rotation=45)\n",
    "plt.grid(True, linestyle='--', alpha=0.7)\n",
    "plt.show()"
   ]
  },
  {
   "cell_type": "markdown",
   "metadata": {
    "id": "vqlx0w7E07uC"
   },
   "source": [
    "# 5 - Plote um gráfico de mapa interativo agrupando os dados por categoria, marca e trazendo a média de desconto."
   ]
  },
  {
   "cell_type": "code",
   "execution_count": 56,
   "metadata": {
    "id": "D-JWM64Q1NzB"
   },
   "outputs": [
    {
     "data": {
      "application/vnd.plotly.v1+json": {
       "config": {
        "plotlyServerURL": "https://plot.ly"
       },
       "data": [
        {
         "branchvalues": "total",
         "customdata": [
          [
           "lacteos"
          ],
          [
           "belleza-y-cuidado-personal"
          ],
          [
           "belleza-y-cuidado-personal"
          ],
          [
           "lacteos"
          ],
          [
           "comidas-preparadas"
          ],
          [
           "congelados"
          ],
          [
           "instantaneos-y-sopas"
          ],
          [
           "lacteos"
          ],
          [
           "lacteos"
          ],
          [
           "lacteos"
          ],
          [
           "verduras"
          ],
          [
           "belleza-y-cuidado-personal"
          ],
          [
           "belleza-y-cuidado-personal"
          ],
          [
           "comidas-preparadas"
          ],
          [
           "belleza-y-cuidado-personal"
          ],
          [
           "belleza-y-cuidado-personal"
          ],
          [
           "belleza-y-cuidado-personal"
          ],
          [
           "belleza-y-cuidado-personal"
          ],
          [
           "congelados"
          ],
          [
           "belleza-y-cuidado-personal"
          ],
          [
           "frutas"
          ],
          [
           "verduras"
          ],
          [
           "frutas"
          ],
          [
           "congelados"
          ],
          [
           "belleza-y-cuidado-personal"
          ],
          [
           "belleza-y-cuidado-personal"
          ],
          [
           "belleza-y-cuidado-personal"
          ],
          [
           "belleza-y-cuidado-personal"
          ],
          [
           "lacteos"
          ],
          [
           "belleza-y-cuidado-personal"
          ],
          [
           "lacteos"
          ],
          [
           "lacteos"
          ],
          [
           "verduras"
          ],
          [
           "lacteos"
          ],
          [
           "congelados"
          ],
          [
           "belleza-y-cuidado-personal"
          ],
          [
           "belleza-y-cuidado-personal"
          ],
          [
           "lacteos"
          ],
          [
           "belleza-y-cuidado-personal"
          ],
          [
           "belleza-y-cuidado-personal"
          ],
          [
           "belleza-y-cuidado-personal"
          ],
          [
           "lacteos"
          ],
          [
           "belleza-y-cuidado-personal"
          ],
          [
           "belleza-y-cuidado-personal"
          ],
          [
           "lacteos"
          ],
          [
           "instantaneos-y-sopas"
          ],
          [
           "comidas-preparadas"
          ],
          [
           "belleza-y-cuidado-personal"
          ],
          [
           "lacteos"
          ],
          [
           "lacteos"
          ],
          [
           "lacteos"
          ],
          [
           "congelados"
          ],
          [
           "instantaneos-y-sopas"
          ],
          [
           "congelados"
          ],
          [
           "lacteos"
          ],
          [
           "lacteos"
          ],
          [
           "belleza-y-cuidado-personal"
          ],
          [
           "congelados"
          ],
          [
           "belleza-y-cuidado-personal"
          ],
          [
           "verduras"
          ],
          [
           "belleza-y-cuidado-personal"
          ],
          [
           "lacteos"
          ],
          [
           "belleza-y-cuidado-personal"
          ],
          [
           "instantaneos-y-sopas"
          ],
          [
           "belleza-y-cuidado-personal"
          ],
          [
           "congelados"
          ],
          [
           "instantaneos-y-sopas"
          ],
          [
           "belleza-y-cuidado-personal"
          ],
          [
           "congelados"
          ],
          [
           "instantaneos-y-sopas"
          ],
          [
           "lacteos"
          ],
          [
           "belleza-y-cuidado-personal"
          ],
          [
           "instantaneos-y-sopas"
          ],
          [
           "lacteos"
          ],
          [
           "lacteos"
          ],
          [
           "lacteos"
          ],
          [
           "belleza-y-cuidado-personal"
          ],
          [
           "belleza-y-cuidado-personal"
          ],
          [
           "belleza-y-cuidado-personal"
          ],
          [
           "congelados"
          ],
          [
           "congelados"
          ],
          [
           "congelados"
          ],
          [
           "lacteos"
          ],
          [
           "congelados"
          ],
          [
           "congelados"
          ],
          [
           "lacteos"
          ],
          [
           "congelados"
          ],
          [
           "belleza-y-cuidado-personal"
          ],
          [
           "lacteos"
          ],
          [
           "comidas-preparadas"
          ],
          [
           "belleza-y-cuidado-personal"
          ],
          [
           "belleza-y-cuidado-personal"
          ],
          [
           "belleza-y-cuidado-personal"
          ],
          [
           "congelados"
          ],
          [
           "lacteos"
          ],
          [
           "belleza-y-cuidado-personal"
          ],
          [
           "belleza-y-cuidado-personal"
          ],
          [
           "lacteos"
          ],
          [
           "lacteos"
          ],
          [
           "instantaneos-y-sopas"
          ],
          [
           "lacteos"
          ],
          [
           "congelados"
          ],
          [
           "lacteos"
          ],
          [
           "lacteos"
          ],
          [
           "lacteos"
          ],
          [
           "belleza-y-cuidado-personal"
          ],
          [
           "belleza-y-cuidado-personal"
          ],
          [
           "congelados"
          ],
          [
           "belleza-y-cuidado-personal"
          ],
          [
           "belleza-y-cuidado-personal"
          ],
          [
           "belleza-y-cuidado-personal"
          ],
          [
           "lacteos"
          ],
          [
           "comidas-preparadas"
          ],
          [
           "belleza-y-cuidado-personal"
          ],
          [
           "lacteos"
          ],
          [
           "congelados"
          ],
          [
           "lacteos"
          ],
          [
           "belleza-y-cuidado-personal"
          ],
          [
           "belleza-y-cuidado-personal"
          ],
          [
           "frutas"
          ],
          [
           "comidas-preparadas"
          ],
          [
           "lacteos"
          ],
          [
           "lacteos"
          ],
          [
           "belleza-y-cuidado-personal"
          ],
          [
           "congelados"
          ],
          [
           "congelados"
          ],
          [
           "lacteos"
          ],
          [
           "lacteos"
          ],
          [
           "lacteos"
          ],
          [
           "belleza-y-cuidado-personal"
          ],
          [
           "congelados"
          ],
          [
           "instantaneos-y-sopas"
          ],
          [
           "belleza-y-cuidado-personal"
          ],
          [
           "congelados"
          ],
          [
           "belleza-y-cuidado-personal"
          ],
          [
           "belleza-y-cuidado-personal"
          ],
          [
           "congelados"
          ],
          [
           "belleza-y-cuidado-personal"
          ],
          [
           "congelados"
          ],
          [
           "congelados"
          ],
          [
           "belleza-y-cuidado-personal"
          ],
          [
           "lacteos"
          ],
          [
           "lacteos"
          ],
          [
           "comidas-preparadas"
          ],
          [
           "congelados"
          ],
          [
           "lacteos"
          ],
          [
           "belleza-y-cuidado-personal"
          ],
          [
           "belleza-y-cuidado-personal"
          ],
          [
           "belleza-y-cuidado-personal"
          ],
          [
           "belleza-y-cuidado-personal"
          ],
          [
           "belleza-y-cuidado-personal"
          ],
          [
           "belleza-y-cuidado-personal"
          ],
          [
           "congelados"
          ],
          [
           "congelados"
          ],
          [
           "lacteos"
          ],
          [
           "congelados"
          ],
          [
           "lacteos"
          ],
          [
           "congelados"
          ],
          [
           "comidas-preparadas"
          ],
          [
           "instantaneos-y-sopas"
          ],
          [
           "lacteos"
          ],
          [
           "lacteos"
          ],
          [
           "comidas-preparadas"
          ],
          [
           "lacteos"
          ],
          [
           "lacteos"
          ],
          [
           "congelados"
          ],
          [
           "congelados"
          ],
          [
           "belleza-y-cuidado-personal"
          ],
          [
           "comidas-preparadas"
          ],
          [
           "congelados"
          ],
          [
           "frutas"
          ],
          [
           "instantaneos-y-sopas"
          ],
          [
           "lacteos"
          ],
          [
           "verduras"
          ]
         ],
         "domain": {
          "x": [
           0,
           1
          ],
          "y": [
           0,
           1
          ]
         },
         "hovertemplate": "labels=%{label}<br>Preco_Desconto=%{value}<br>parent=%{parent}<br>id=%{id}<br>Categoria=%{customdata[0]}<extra></extra>",
         "ids": [
          "lacteos/1+1 Soprole",
          "belleza-y-cuidado-personal/Cotidian",
          "belleza-y-cuidado-personal/Cotosan",
          "lacteos/Crucina",
          "comidas-preparadas/Cuisine & Co",
          "congelados/Cuisine & Co",
          "instantaneos-y-sopas/Cuisine & Co",
          "lacteos/Cuisine & Co",
          "lacteos/Danone",
          "lacteos/Deline",
          "verduras/Dole",
          "belleza-y-cuidado-personal/Dove",
          "belleza-y-cuidado-personal/Dove Men",
          "comidas-preparadas/Corbac",
          "belleza-y-cuidado-personal/Duralón",
          "belleza-y-cuidado-personal/Elvive",
          "belleza-y-cuidado-personal/Familand",
          "belleza-y-cuidado-personal/Family Care",
          "congelados/Fiesta",
          "belleza-y-cuidado-personal/Fructis",
          "frutas/Frutas Y Verduras Propias",
          "verduras/Frutas Y Verduras Propias",
          "frutas/Frutas Y Verduras Santa Isabel",
          "congelados/Frutos Del Maipo",
          "belleza-y-cuidado-personal/Garnier",
          "belleza-y-cuidado-personal/Gillette",
          "belleza-y-cuidado-personal/Giselle",
          "belleza-y-cuidado-personal/Elite",
          "lacteos/Copacabana",
          "belleza-y-cuidado-personal/Dento",
          "lacteos/Collico",
          "lacteos/Activia",
          "verduras/Agrosano",
          "lacteos/Colun",
          "congelados/Alimentos Shen",
          "belleza-y-cuidado-personal/Always",
          "belleza-y-cuidado-personal/Aquafresh",
          "lacteos/Astra",
          "belleza-y-cuidado-personal/Axe",
          "belleza-y-cuidado-personal/Babyland",
          "belleza-y-cuidado-personal/Ballerina",
          "lacteos/Base Culinar",
          "belleza-y-cuidado-personal/Bellekiss",
          "belleza-y-cuidado-personal/BiO",
          "lacteos/Bonella",
          "instantaneos-y-sopas/Alcafood",
          "comidas-preparadas/Bredenmaster",
          "belleza-y-cuidado-personal/Colgate",
          "lacteos/Cintazul",
          "lacteos/Chiquitín",
          "lacteos/Chamyto",
          "congelados/Bravissimo",
          "instantaneos-y-sopas/Carozzi",
          "congelados/Carte Dor",
          "lacteos/Calo",
          "lacteos/Calan",
          "belleza-y-cuidado-personal/Brooks",
          "congelados/Bresler",
          "belleza-y-cuidado-personal/Carefree",
          "verduras/Jumbo",
          "belleza-y-cuidado-personal/Ilicit",
          "lacteos/Ideal",
          "belleza-y-cuidado-personal/Herbal Essences",
          "instantaneos-y-sopas/Hoffmann",
          "belleza-y-cuidado-personal/Head & Shoulders",
          "congelados/Guallarauco",
          "instantaneos-y-sopas/Gourmet",
          "belleza-y-cuidado-personal/Herbal",
          "congelados/Mister Veggie",
          "instantaneos-y-sopas/Máxima MP",
          "lacteos/Máxima MP",
          "belleza-y-cuidado-personal/Naturella",
          "instantaneos-y-sopas/Naturezza",
          "lacteos/Nesquik",
          "lacteos/Nestlé",
          "lacteos/Nido",
          "belleza-y-cuidado-personal/Nivea",
          "belleza-y-cuidado-personal/Nivea For Men",
          "belleza-y-cuidado-personal/Nosotras",
          "congelados/Not Burger",
          "congelados/Not Chicken",
          "congelados/Minuto Verde",
          "lacteos/Next",
          "congelados/Mega",
          "congelados/Magnum",
          "lacteos/Marco Polo",
          "congelados/King",
          "belleza-y-cuidado-personal/Kotex",
          "lacteos/Kumey",
          "comidas-preparadas/La Crianza",
          "belleza-y-cuidado-personal/Lady Speed Stick",
          "belleza-y-cuidado-personal/Ladysoft",
          "belleza-y-cuidado-personal/Le Sancy",
          "congelados/La Crianza",
          "lacteos/Light & Free",
          "belleza-y-cuidado-personal/Linic",
          "belleza-y-cuidado-personal/Listerine",
          "lacteos/Loncoleche",
          "lacteos/Los Alerces",
          "instantaneos-y-sopas/Maggi",
          "lacteos/Lefersa",
          "congelados/Not Ice Cream",
          "lacteos/Not Milk",
          "lacteos/Oikos",
          "lacteos/Pamperita",
          "belleza-y-cuidado-personal/Plenitud",
          "belleza-y-cuidado-personal/Pepsodent",
          "congelados/PF",
          "belleza-y-cuidado-personal/Pantene",
          "belleza-y-cuidado-personal/Oral-B",
          "belleza-y-cuidado-personal/Oral Fresh",
          "lacteos/Omega 3",
          "comidas-preparadas/PF",
          "belleza-y-cuidado-personal/Old Spice",
          "lacteos/Shake A Shake Lonco Leche",
          "congelados/Super Beef",
          "lacteos/Signore Mario",
          "belleza-y-cuidado-personal/Simond'S",
          "belleza-y-cuidado-personal/Simonds",
          "frutas/Sofruco",
          "comidas-preparadas/Solo Italia",
          "lacteos/Soprole",
          "lacteos/Soprole Activ",
          "belleza-y-cuidado-personal/Speed Stick",
          "congelados/Rock",
          "congelados/Super Pollo",
          "lacteos/Sureña",
          "lacteos/Surlat",
          "lacteos/Svelty",
          "belleza-y-cuidado-personal/Tena",
          "congelados/Tivoni",
          "instantaneos-y-sopas/Traverso",
          "belleza-y-cuidado-personal/Trianon",
          "congelados/Turkey Hill",
          "belleza-y-cuidado-personal/Tío Nacho",
          "belleza-y-cuidado-personal/Sensodyne",
          "congelados/Super Cerdo",
          "belleza-y-cuidado-personal/Sedal",
          "congelados/Rikü",
          "congelados/Savory",
          "belleza-y-cuidado-personal/Protex",
          "lacteos/Qualy",
          "lacteos/Quillayes",
          "comidas-preparadas/Rana",
          "congelados/Receta Del Abuelo",
          "lacteos/Regimel",
          "belleza-y-cuidado-personal/Rexona",
          "belleza-y-cuidado-personal/Rexona Clinical",
          "belleza-y-cuidado-personal/Rexona Men",
          "belleza-y-cuidado-personal/Rexona Men Clinical",
          "belleza-y-cuidado-personal/Schick",
          "belleza-y-cuidado-personal/Vanart",
          "congelados/Sadia",
          "congelados/Sahne Nuss",
          "lacteos/Sahne Nuss",
          "congelados/San Francisco De Loncomilla",
          "lacteos/San Ignacio",
          "congelados/San Jorge",
          "comidas-preparadas/Santa Isabel",
          "instantaneos-y-sopas/Santa Isabel",
          "lacteos/Santa Isabel",
          "lacteos/Santa Marta",
          "comidas-preparadas/Sadia",
          "lacteos/Yogu - Yogu",
          "lacteos/Zerolacto",
          "congelados/Viennetta Bresler",
          "congelados/Zole",
          "belleza-y-cuidado-personal",
          "comidas-preparadas",
          "congelados",
          "frutas",
          "instantaneos-y-sopas",
          "lacteos",
          "verduras"
         ],
         "labels": [
          "1+1 Soprole",
          "Cotidian",
          "Cotosan",
          "Crucina",
          "Cuisine & Co",
          "Cuisine & Co",
          "Cuisine & Co",
          "Cuisine & Co",
          "Danone",
          "Deline",
          "Dole",
          "Dove",
          "Dove Men",
          "Corbac",
          "Duralón",
          "Elvive",
          "Familand",
          "Family Care",
          "Fiesta",
          "Fructis",
          "Frutas Y Verduras Propias",
          "Frutas Y Verduras Propias",
          "Frutas Y Verduras Santa Isabel",
          "Frutos Del Maipo",
          "Garnier",
          "Gillette",
          "Giselle",
          "Elite",
          "Copacabana",
          "Dento",
          "Collico",
          "Activia",
          "Agrosano",
          "Colun",
          "Alimentos Shen",
          "Always",
          "Aquafresh",
          "Astra",
          "Axe",
          "Babyland",
          "Ballerina",
          "Base Culinar",
          "Bellekiss",
          "BiO",
          "Bonella",
          "Alcafood",
          "Bredenmaster",
          "Colgate",
          "Cintazul",
          "Chiquitín",
          "Chamyto",
          "Bravissimo",
          "Carozzi",
          "Carte Dor",
          "Calo",
          "Calan",
          "Brooks",
          "Bresler",
          "Carefree",
          "Jumbo",
          "Ilicit",
          "Ideal",
          "Herbal Essences",
          "Hoffmann",
          "Head & Shoulders",
          "Guallarauco",
          "Gourmet",
          "Herbal",
          "Mister Veggie",
          "Máxima MP",
          "Máxima MP",
          "Naturella",
          "Naturezza",
          "Nesquik",
          "Nestlé",
          "Nido",
          "Nivea",
          "Nivea For Men",
          "Nosotras",
          "Not Burger",
          "Not Chicken",
          "Minuto Verde",
          "Next",
          "Mega",
          "Magnum",
          "Marco Polo",
          "King",
          "Kotex",
          "Kumey",
          "La Crianza",
          "Lady Speed Stick",
          "Ladysoft",
          "Le Sancy",
          "La Crianza",
          "Light & Free",
          "Linic",
          "Listerine",
          "Loncoleche",
          "Los Alerces",
          "Maggi",
          "Lefersa",
          "Not Ice Cream",
          "Not Milk",
          "Oikos",
          "Pamperita",
          "Plenitud",
          "Pepsodent",
          "PF",
          "Pantene",
          "Oral-B",
          "Oral Fresh",
          "Omega 3",
          "PF",
          "Old Spice",
          "Shake A Shake Lonco Leche",
          "Super Beef",
          "Signore Mario",
          "Simond'S",
          "Simonds",
          "Sofruco",
          "Solo Italia",
          "Soprole",
          "Soprole Activ",
          "Speed Stick",
          "Rock",
          "Super Pollo",
          "Sureña",
          "Surlat",
          "Svelty",
          "Tena",
          "Tivoni",
          "Traverso",
          "Trianon",
          "Turkey Hill",
          "Tío Nacho",
          "Sensodyne",
          "Super Cerdo",
          "Sedal",
          "Rikü",
          "Savory",
          "Protex",
          "Qualy",
          "Quillayes",
          "Rana",
          "Receta Del Abuelo",
          "Regimel",
          "Rexona",
          "Rexona Clinical",
          "Rexona Men",
          "Rexona Men Clinical",
          "Schick",
          "Vanart",
          "Sadia",
          "Sahne Nuss",
          "Sahne Nuss",
          "San Francisco De Loncomilla",
          "San Ignacio",
          "San Jorge",
          "Santa Isabel",
          "Santa Isabel",
          "Santa Isabel",
          "Santa Marta",
          "Sadia",
          "Yogu - Yogu",
          "Zerolacto",
          "Viennetta Bresler",
          "Zole",
          "belleza-y-cuidado-personal",
          "comidas-preparadas",
          "congelados",
          "frutas",
          "instantaneos-y-sopas",
          "lacteos",
          "verduras"
         ],
         "level": "9bb6b9",
         "marker": {
          "colors": [
           "#636efa",
           "#EF553B",
           "#EF553B",
           "#636efa",
           "#00cc96",
           "#ab63fa",
           "#FFA15A",
           "#636efa",
           "#636efa",
           "#636efa",
           "#19d3f3",
           "#EF553B",
           "#EF553B",
           "#00cc96",
           "#EF553B",
           "#EF553B",
           "#EF553B",
           "#EF553B",
           "#ab63fa",
           "#EF553B",
           "#FF6692",
           "#19d3f3",
           "#FF6692",
           "#ab63fa",
           "#EF553B",
           "#EF553B",
           "#EF553B",
           "#EF553B",
           "#636efa",
           "#EF553B",
           "#636efa",
           "#636efa",
           "#19d3f3",
           "#636efa",
           "#ab63fa",
           "#EF553B",
           "#EF553B",
           "#636efa",
           "#EF553B",
           "#EF553B",
           "#EF553B",
           "#636efa",
           "#EF553B",
           "#EF553B",
           "#636efa",
           "#FFA15A",
           "#00cc96",
           "#EF553B",
           "#636efa",
           "#636efa",
           "#636efa",
           "#ab63fa",
           "#FFA15A",
           "#ab63fa",
           "#636efa",
           "#636efa",
           "#EF553B",
           "#ab63fa",
           "#EF553B",
           "#19d3f3",
           "#EF553B",
           "#636efa",
           "#EF553B",
           "#FFA15A",
           "#EF553B",
           "#ab63fa",
           "#FFA15A",
           "#EF553B",
           "#ab63fa",
           "#FFA15A",
           "#636efa",
           "#EF553B",
           "#FFA15A",
           "#636efa",
           "#636efa",
           "#636efa",
           "#EF553B",
           "#EF553B",
           "#EF553B",
           "#ab63fa",
           "#ab63fa",
           "#ab63fa",
           "#636efa",
           "#ab63fa",
           "#ab63fa",
           "#636efa",
           "#ab63fa",
           "#EF553B",
           "#636efa",
           "#00cc96",
           "#EF553B",
           "#EF553B",
           "#EF553B",
           "#ab63fa",
           "#636efa",
           "#EF553B",
           "#EF553B",
           "#636efa",
           "#636efa",
           "#FFA15A",
           "#636efa",
           "#ab63fa",
           "#636efa",
           "#636efa",
           "#636efa",
           "#EF553B",
           "#EF553B",
           "#ab63fa",
           "#EF553B",
           "#EF553B",
           "#EF553B",
           "#636efa",
           "#00cc96",
           "#EF553B",
           "#636efa",
           "#ab63fa",
           "#636efa",
           "#EF553B",
           "#EF553B",
           "#FF6692",
           "#00cc96",
           "#636efa",
           "#636efa",
           "#EF553B",
           "#ab63fa",
           "#ab63fa",
           "#636efa",
           "#636efa",
           "#636efa",
           "#EF553B",
           "#ab63fa",
           "#FFA15A",
           "#EF553B",
           "#ab63fa",
           "#EF553B",
           "#EF553B",
           "#ab63fa",
           "#EF553B",
           "#ab63fa",
           "#ab63fa",
           "#EF553B",
           "#636efa",
           "#636efa",
           "#00cc96",
           "#ab63fa",
           "#636efa",
           "#EF553B",
           "#EF553B",
           "#EF553B",
           "#EF553B",
           "#EF553B",
           "#EF553B",
           "#ab63fa",
           "#ab63fa",
           "#636efa",
           "#ab63fa",
           "#636efa",
           "#ab63fa",
           "#00cc96",
           "#FFA15A",
           "#636efa",
           "#636efa",
           "#00cc96",
           "#636efa",
           "#636efa",
           "#ab63fa",
           "#ab63fa",
           "#EF553B",
           "#00cc96",
           "#ab63fa",
           "#FF6692",
           "#FFA15A",
           "#636efa",
           "#19d3f3"
          ]
         },
         "name": "",
         "parents": [
          "lacteos",
          "belleza-y-cuidado-personal",
          "belleza-y-cuidado-personal",
          "lacteos",
          "comidas-preparadas",
          "congelados",
          "instantaneos-y-sopas",
          "lacteos",
          "lacteos",
          "lacteos",
          "verduras",
          "belleza-y-cuidado-personal",
          "belleza-y-cuidado-personal",
          "comidas-preparadas",
          "belleza-y-cuidado-personal",
          "belleza-y-cuidado-personal",
          "belleza-y-cuidado-personal",
          "belleza-y-cuidado-personal",
          "congelados",
          "belleza-y-cuidado-personal",
          "frutas",
          "verduras",
          "frutas",
          "congelados",
          "belleza-y-cuidado-personal",
          "belleza-y-cuidado-personal",
          "belleza-y-cuidado-personal",
          "belleza-y-cuidado-personal",
          "lacteos",
          "belleza-y-cuidado-personal",
          "lacteos",
          "lacteos",
          "verduras",
          "lacteos",
          "congelados",
          "belleza-y-cuidado-personal",
          "belleza-y-cuidado-personal",
          "lacteos",
          "belleza-y-cuidado-personal",
          "belleza-y-cuidado-personal",
          "belleza-y-cuidado-personal",
          "lacteos",
          "belleza-y-cuidado-personal",
          "belleza-y-cuidado-personal",
          "lacteos",
          "instantaneos-y-sopas",
          "comidas-preparadas",
          "belleza-y-cuidado-personal",
          "lacteos",
          "lacteos",
          "lacteos",
          "congelados",
          "instantaneos-y-sopas",
          "congelados",
          "lacteos",
          "lacteos",
          "belleza-y-cuidado-personal",
          "congelados",
          "belleza-y-cuidado-personal",
          "verduras",
          "belleza-y-cuidado-personal",
          "lacteos",
          "belleza-y-cuidado-personal",
          "instantaneos-y-sopas",
          "belleza-y-cuidado-personal",
          "congelados",
          "instantaneos-y-sopas",
          "belleza-y-cuidado-personal",
          "congelados",
          "instantaneos-y-sopas",
          "lacteos",
          "belleza-y-cuidado-personal",
          "instantaneos-y-sopas",
          "lacteos",
          "lacteos",
          "lacteos",
          "belleza-y-cuidado-personal",
          "belleza-y-cuidado-personal",
          "belleza-y-cuidado-personal",
          "congelados",
          "congelados",
          "congelados",
          "lacteos",
          "congelados",
          "congelados",
          "lacteos",
          "congelados",
          "belleza-y-cuidado-personal",
          "lacteos",
          "comidas-preparadas",
          "belleza-y-cuidado-personal",
          "belleza-y-cuidado-personal",
          "belleza-y-cuidado-personal",
          "congelados",
          "lacteos",
          "belleza-y-cuidado-personal",
          "belleza-y-cuidado-personal",
          "lacteos",
          "lacteos",
          "instantaneos-y-sopas",
          "lacteos",
          "congelados",
          "lacteos",
          "lacteos",
          "lacteos",
          "belleza-y-cuidado-personal",
          "belleza-y-cuidado-personal",
          "congelados",
          "belleza-y-cuidado-personal",
          "belleza-y-cuidado-personal",
          "belleza-y-cuidado-personal",
          "lacteos",
          "comidas-preparadas",
          "belleza-y-cuidado-personal",
          "lacteos",
          "congelados",
          "lacteos",
          "belleza-y-cuidado-personal",
          "belleza-y-cuidado-personal",
          "frutas",
          "comidas-preparadas",
          "lacteos",
          "lacteos",
          "belleza-y-cuidado-personal",
          "congelados",
          "congelados",
          "lacteos",
          "lacteos",
          "lacteos",
          "belleza-y-cuidado-personal",
          "congelados",
          "instantaneos-y-sopas",
          "belleza-y-cuidado-personal",
          "congelados",
          "belleza-y-cuidado-personal",
          "belleza-y-cuidado-personal",
          "congelados",
          "belleza-y-cuidado-personal",
          "congelados",
          "congelados",
          "belleza-y-cuidado-personal",
          "lacteos",
          "lacteos",
          "comidas-preparadas",
          "congelados",
          "lacteos",
          "belleza-y-cuidado-personal",
          "belleza-y-cuidado-personal",
          "belleza-y-cuidado-personal",
          "belleza-y-cuidado-personal",
          "belleza-y-cuidado-personal",
          "belleza-y-cuidado-personal",
          "congelados",
          "congelados",
          "lacteos",
          "congelados",
          "lacteos",
          "congelados",
          "comidas-preparadas",
          "instantaneos-y-sopas",
          "lacteos",
          "lacteos",
          "comidas-preparadas",
          "lacteos",
          "lacteos",
          "congelados",
          "congelados",
          "",
          "",
          "",
          "",
          "",
          "",
          ""
         ],
         "type": "treemap",
         "values": [
          615,
          13899,
          0,
          0,
          945.7894736842105,
          1231.7142857142858,
          0,
          108.63636363636364,
          31,
          0,
          0,
          1708.2666666666667,
          1537.25,
          0,
          0,
          1265.2222222222222,
          0,
          0,
          0,
          2227,
          0,
          0,
          0,
          673.3333333333334,
          0,
          0,
          0,
          2293,
          0,
          0,
          0,
          74.16666666666667,
          0,
          157.26436781609195,
          0,
          701,
          1778.3333333333333,
          0,
          2179,
          0,
          104.16666666666667,
          0,
          0,
          1949,
          0,
          0,
          0,
          654.7619047619048,
          0,
          0,
          0,
          0,
          0,
          2027,
          0,
          0,
          0,
          2041.2142857142858,
          656.6666666666666,
          0,
          0,
          0,
          4599,
          0,
          0,
          0,
          329.25,
          0,
          0,
          0,
          0,
          0,
          0,
          0,
          166.95348837209303,
          2910,
          1193.0833333333333,
          2669,
          413.72727272727275,
          1089,
          0,
          107.85,
          1499.25,
          3722,
          4054,
          0,
          0,
          891.5,
          0,
          0,
          996.6666666666666,
          496.6666666666667,
          0,
          0,
          186,
          0,
          0,
          69.7,
          0,
          192.39285714285714,
          0,
          4285,
          639,
          0,
          0,
          0,
          1641.6666666666667,
          0,
          1705.7142857142858,
          265.8888888888889,
          2393,
          0,
          1356,
          0,
          0,
          529,
          0,
          0,
          2190,
          0,
          0,
          234.1078431372549,
          0,
          0,
          0,
          0,
          1043.5,
          0,
          0,
          0,
          0,
          0,
          0,
          0,
          4990,
          0,
          0,
          3226.3333333333335,
          0,
          1872.34375,
          995,
          0,
          0,
          0,
          0,
          0,
          2289,
          4504,
          2289,
          4504,
          0,
          2690,
          0,
          930.5,
          0,
          0,
          0,
          274.5,
          0,
          0,
          0,
          1025,
          0,
          0,
          0,
          3093,
          0,
          75895.91457431458,
          2301.7894736842104,
          25930.455654761907,
          0,
          521.6428571428571,
          8759.57872962847,
          0
         ]
        }
       ],
       "layout": {
        "autosize": true,
        "legend": {
         "tracegroupgap": 0
        },
        "template": {
         "data": {
          "bar": [
           {
            "error_x": {
             "color": "#2a3f5f"
            },
            "error_y": {
             "color": "#2a3f5f"
            },
            "marker": {
             "line": {
              "color": "#E5ECF6",
              "width": 0.5
             },
             "pattern": {
              "fillmode": "overlay",
              "size": 10,
              "solidity": 0.2
             }
            },
            "type": "bar"
           }
          ],
          "barpolar": [
           {
            "marker": {
             "line": {
              "color": "#E5ECF6",
              "width": 0.5
             },
             "pattern": {
              "fillmode": "overlay",
              "size": 10,
              "solidity": 0.2
             }
            },
            "type": "barpolar"
           }
          ],
          "carpet": [
           {
            "aaxis": {
             "endlinecolor": "#2a3f5f",
             "gridcolor": "white",
             "linecolor": "white",
             "minorgridcolor": "white",
             "startlinecolor": "#2a3f5f"
            },
            "baxis": {
             "endlinecolor": "#2a3f5f",
             "gridcolor": "white",
             "linecolor": "white",
             "minorgridcolor": "white",
             "startlinecolor": "#2a3f5f"
            },
            "type": "carpet"
           }
          ],
          "choropleth": [
           {
            "colorbar": {
             "outlinewidth": 0,
             "ticks": ""
            },
            "type": "choropleth"
           }
          ],
          "contour": [
           {
            "colorbar": {
             "outlinewidth": 0,
             "ticks": ""
            },
            "colorscale": [
             [
              0,
              "#0d0887"
             ],
             [
              0.1111111111111111,
              "#46039f"
             ],
             [
              0.2222222222222222,
              "#7201a8"
             ],
             [
              0.3333333333333333,
              "#9c179e"
             ],
             [
              0.4444444444444444,
              "#bd3786"
             ],
             [
              0.5555555555555556,
              "#d8576b"
             ],
             [
              0.6666666666666666,
              "#ed7953"
             ],
             [
              0.7777777777777778,
              "#fb9f3a"
             ],
             [
              0.8888888888888888,
              "#fdca26"
             ],
             [
              1,
              "#f0f921"
             ]
            ],
            "type": "contour"
           }
          ],
          "contourcarpet": [
           {
            "colorbar": {
             "outlinewidth": 0,
             "ticks": ""
            },
            "type": "contourcarpet"
           }
          ],
          "heatmap": [
           {
            "colorbar": {
             "outlinewidth": 0,
             "ticks": ""
            },
            "colorscale": [
             [
              0,
              "#0d0887"
             ],
             [
              0.1111111111111111,
              "#46039f"
             ],
             [
              0.2222222222222222,
              "#7201a8"
             ],
             [
              0.3333333333333333,
              "#9c179e"
             ],
             [
              0.4444444444444444,
              "#bd3786"
             ],
             [
              0.5555555555555556,
              "#d8576b"
             ],
             [
              0.6666666666666666,
              "#ed7953"
             ],
             [
              0.7777777777777778,
              "#fb9f3a"
             ],
             [
              0.8888888888888888,
              "#fdca26"
             ],
             [
              1,
              "#f0f921"
             ]
            ],
            "type": "heatmap"
           }
          ],
          "heatmapgl": [
           {
            "colorbar": {
             "outlinewidth": 0,
             "ticks": ""
            },
            "colorscale": [
             [
              0,
              "#0d0887"
             ],
             [
              0.1111111111111111,
              "#46039f"
             ],
             [
              0.2222222222222222,
              "#7201a8"
             ],
             [
              0.3333333333333333,
              "#9c179e"
             ],
             [
              0.4444444444444444,
              "#bd3786"
             ],
             [
              0.5555555555555556,
              "#d8576b"
             ],
             [
              0.6666666666666666,
              "#ed7953"
             ],
             [
              0.7777777777777778,
              "#fb9f3a"
             ],
             [
              0.8888888888888888,
              "#fdca26"
             ],
             [
              1,
              "#f0f921"
             ]
            ],
            "type": "heatmapgl"
           }
          ],
          "histogram": [
           {
            "marker": {
             "pattern": {
              "fillmode": "overlay",
              "size": 10,
              "solidity": 0.2
             }
            },
            "type": "histogram"
           }
          ],
          "histogram2d": [
           {
            "colorbar": {
             "outlinewidth": 0,
             "ticks": ""
            },
            "colorscale": [
             [
              0,
              "#0d0887"
             ],
             [
              0.1111111111111111,
              "#46039f"
             ],
             [
              0.2222222222222222,
              "#7201a8"
             ],
             [
              0.3333333333333333,
              "#9c179e"
             ],
             [
              0.4444444444444444,
              "#bd3786"
             ],
             [
              0.5555555555555556,
              "#d8576b"
             ],
             [
              0.6666666666666666,
              "#ed7953"
             ],
             [
              0.7777777777777778,
              "#fb9f3a"
             ],
             [
              0.8888888888888888,
              "#fdca26"
             ],
             [
              1,
              "#f0f921"
             ]
            ],
            "type": "histogram2d"
           }
          ],
          "histogram2dcontour": [
           {
            "colorbar": {
             "outlinewidth": 0,
             "ticks": ""
            },
            "colorscale": [
             [
              0,
              "#0d0887"
             ],
             [
              0.1111111111111111,
              "#46039f"
             ],
             [
              0.2222222222222222,
              "#7201a8"
             ],
             [
              0.3333333333333333,
              "#9c179e"
             ],
             [
              0.4444444444444444,
              "#bd3786"
             ],
             [
              0.5555555555555556,
              "#d8576b"
             ],
             [
              0.6666666666666666,
              "#ed7953"
             ],
             [
              0.7777777777777778,
              "#fb9f3a"
             ],
             [
              0.8888888888888888,
              "#fdca26"
             ],
             [
              1,
              "#f0f921"
             ]
            ],
            "type": "histogram2dcontour"
           }
          ],
          "mesh3d": [
           {
            "colorbar": {
             "outlinewidth": 0,
             "ticks": ""
            },
            "type": "mesh3d"
           }
          ],
          "parcoords": [
           {
            "line": {
             "colorbar": {
              "outlinewidth": 0,
              "ticks": ""
             }
            },
            "type": "parcoords"
           }
          ],
          "pie": [
           {
            "automargin": true,
            "type": "pie"
           }
          ],
          "scatter": [
           {
            "fillpattern": {
             "fillmode": "overlay",
             "size": 10,
             "solidity": 0.2
            },
            "type": "scatter"
           }
          ],
          "scatter3d": [
           {
            "line": {
             "colorbar": {
              "outlinewidth": 0,
              "ticks": ""
             }
            },
            "marker": {
             "colorbar": {
              "outlinewidth": 0,
              "ticks": ""
             }
            },
            "type": "scatter3d"
           }
          ],
          "scattercarpet": [
           {
            "marker": {
             "colorbar": {
              "outlinewidth": 0,
              "ticks": ""
             }
            },
            "type": "scattercarpet"
           }
          ],
          "scattergeo": [
           {
            "marker": {
             "colorbar": {
              "outlinewidth": 0,
              "ticks": ""
             }
            },
            "type": "scattergeo"
           }
          ],
          "scattergl": [
           {
            "marker": {
             "colorbar": {
              "outlinewidth": 0,
              "ticks": ""
             }
            },
            "type": "scattergl"
           }
          ],
          "scattermapbox": [
           {
            "marker": {
             "colorbar": {
              "outlinewidth": 0,
              "ticks": ""
             }
            },
            "type": "scattermapbox"
           }
          ],
          "scatterpolar": [
           {
            "marker": {
             "colorbar": {
              "outlinewidth": 0,
              "ticks": ""
             }
            },
            "type": "scatterpolar"
           }
          ],
          "scatterpolargl": [
           {
            "marker": {
             "colorbar": {
              "outlinewidth": 0,
              "ticks": ""
             }
            },
            "type": "scatterpolargl"
           }
          ],
          "scatterternary": [
           {
            "marker": {
             "colorbar": {
              "outlinewidth": 0,
              "ticks": ""
             }
            },
            "type": "scatterternary"
           }
          ],
          "surface": [
           {
            "colorbar": {
             "outlinewidth": 0,
             "ticks": ""
            },
            "colorscale": [
             [
              0,
              "#0d0887"
             ],
             [
              0.1111111111111111,
              "#46039f"
             ],
             [
              0.2222222222222222,
              "#7201a8"
             ],
             [
              0.3333333333333333,
              "#9c179e"
             ],
             [
              0.4444444444444444,
              "#bd3786"
             ],
             [
              0.5555555555555556,
              "#d8576b"
             ],
             [
              0.6666666666666666,
              "#ed7953"
             ],
             [
              0.7777777777777778,
              "#fb9f3a"
             ],
             [
              0.8888888888888888,
              "#fdca26"
             ],
             [
              1,
              "#f0f921"
             ]
            ],
            "type": "surface"
           }
          ],
          "table": [
           {
            "cells": {
             "fill": {
              "color": "#EBF0F8"
             },
             "line": {
              "color": "white"
             }
            },
            "header": {
             "fill": {
              "color": "#C8D4E3"
             },
             "line": {
              "color": "white"
             }
            },
            "type": "table"
           }
          ]
         },
         "layout": {
          "annotationdefaults": {
           "arrowcolor": "#2a3f5f",
           "arrowhead": 0,
           "arrowwidth": 1
          },
          "autotypenumbers": "strict",
          "coloraxis": {
           "colorbar": {
            "outlinewidth": 0,
            "ticks": ""
           }
          },
          "colorscale": {
           "diverging": [
            [
             0,
             "#8e0152"
            ],
            [
             0.1,
             "#c51b7d"
            ],
            [
             0.2,
             "#de77ae"
            ],
            [
             0.3,
             "#f1b6da"
            ],
            [
             0.4,
             "#fde0ef"
            ],
            [
             0.5,
             "#f7f7f7"
            ],
            [
             0.6,
             "#e6f5d0"
            ],
            [
             0.7,
             "#b8e186"
            ],
            [
             0.8,
             "#7fbc41"
            ],
            [
             0.9,
             "#4d9221"
            ],
            [
             1,
             "#276419"
            ]
           ],
           "sequential": [
            [
             0,
             "#0d0887"
            ],
            [
             0.1111111111111111,
             "#46039f"
            ],
            [
             0.2222222222222222,
             "#7201a8"
            ],
            [
             0.3333333333333333,
             "#9c179e"
            ],
            [
             0.4444444444444444,
             "#bd3786"
            ],
            [
             0.5555555555555556,
             "#d8576b"
            ],
            [
             0.6666666666666666,
             "#ed7953"
            ],
            [
             0.7777777777777778,
             "#fb9f3a"
            ],
            [
             0.8888888888888888,
             "#fdca26"
            ],
            [
             1,
             "#f0f921"
            ]
           ],
           "sequentialminus": [
            [
             0,
             "#0d0887"
            ],
            [
             0.1111111111111111,
             "#46039f"
            ],
            [
             0.2222222222222222,
             "#7201a8"
            ],
            [
             0.3333333333333333,
             "#9c179e"
            ],
            [
             0.4444444444444444,
             "#bd3786"
            ],
            [
             0.5555555555555556,
             "#d8576b"
            ],
            [
             0.6666666666666666,
             "#ed7953"
            ],
            [
             0.7777777777777778,
             "#fb9f3a"
            ],
            [
             0.8888888888888888,
             "#fdca26"
            ],
            [
             1,
             "#f0f921"
            ]
           ]
          },
          "colorway": [
           "#636efa",
           "#EF553B",
           "#00cc96",
           "#ab63fa",
           "#FFA15A",
           "#19d3f3",
           "#FF6692",
           "#B6E880",
           "#FF97FF",
           "#FECB52"
          ],
          "font": {
           "color": "#2a3f5f"
          },
          "geo": {
           "bgcolor": "white",
           "lakecolor": "white",
           "landcolor": "#E5ECF6",
           "showlakes": true,
           "showland": true,
           "subunitcolor": "white"
          },
          "hoverlabel": {
           "align": "left"
          },
          "hovermode": "closest",
          "mapbox": {
           "style": "light"
          },
          "paper_bgcolor": "white",
          "plot_bgcolor": "#E5ECF6",
          "polar": {
           "angularaxis": {
            "gridcolor": "white",
            "linecolor": "white",
            "ticks": ""
           },
           "bgcolor": "#E5ECF6",
           "radialaxis": {
            "gridcolor": "white",
            "linecolor": "white",
            "ticks": ""
           }
          },
          "scene": {
           "xaxis": {
            "backgroundcolor": "#E5ECF6",
            "gridcolor": "white",
            "gridwidth": 2,
            "linecolor": "white",
            "showbackground": true,
            "ticks": "",
            "zerolinecolor": "white"
           },
           "yaxis": {
            "backgroundcolor": "#E5ECF6",
            "gridcolor": "white",
            "gridwidth": 2,
            "linecolor": "white",
            "showbackground": true,
            "ticks": "",
            "zerolinecolor": "white"
           },
           "zaxis": {
            "backgroundcolor": "#E5ECF6",
            "gridcolor": "white",
            "gridwidth": 2,
            "linecolor": "white",
            "showbackground": true,
            "ticks": "",
            "zerolinecolor": "white"
           }
          },
          "shapedefaults": {
           "line": {
            "color": "#2a3f5f"
           }
          },
          "ternary": {
           "aaxis": {
            "gridcolor": "white",
            "linecolor": "white",
            "ticks": ""
           },
           "baxis": {
            "gridcolor": "white",
            "linecolor": "white",
            "ticks": ""
           },
           "bgcolor": "#E5ECF6",
           "caxis": {
            "gridcolor": "white",
            "linecolor": "white",
            "ticks": ""
           }
          },
          "title": {
           "x": 0.05
          },
          "xaxis": {
           "automargin": true,
           "gridcolor": "white",
           "linecolor": "white",
           "ticks": "",
           "title": {
            "standoff": 15
           },
           "zerolinecolor": "white",
           "zerolinewidth": 2
          },
          "yaxis": {
           "automargin": true,
           "gridcolor": "white",
           "linecolor": "white",
           "ticks": "",
           "title": {
            "standoff": 15
           },
           "zerolinecolor": "white",
           "zerolinewidth": 2
          }
         }
        },
        "title": {
         "text": "Dados por Categoria, Marca e Média de Desconto"
        }
       }
      },
      "image/png": "[encoded data removed]",
      "text/html": [
       "<div>                            <div id=\"53de32e4-e24c-4f3b-adc5-497f39e55d05\" class=\"plotly-graph-div\" style=\"height:525px; width:100%;\"></div>            <script type=\"text/javascript\">                require([\"plotly\"], function(Plotly) {                    window.PLOTLYENV=window.PLOTLYENV || {};                                    if (document.getElementById(\"53de32e4-e24c-4f3b-adc5-497f39e55d05\")) {                    Plotly.newPlot(                        \"53de32e4-e24c-4f3b-adc5-497f39e55d05\",                        [{\"branchvalues\":\"total\",\"customdata\":[[\"lacteos\"],[\"belleza-y-cuidado-personal\"],[\"belleza-y-cuidado-personal\"],[\"lacteos\"],[\"comidas-preparadas\"],[\"congelados\"],[\"instantaneos-y-sopas\"],[\"lacteos\"],[\"lacteos\"],[\"lacteos\"],[\"verduras\"],[\"belleza-y-cuidado-personal\"],[\"belleza-y-cuidado-personal\"],[\"comidas-preparadas\"],[\"belleza-y-cuidado-personal\"],[\"belleza-y-cuidado-personal\"],[\"belleza-y-cuidado-personal\"],[\"belleza-y-cuidado-personal\"],[\"congelados\"],[\"belleza-y-cuidado-personal\"],[\"frutas\"],[\"verduras\"],[\"frutas\"],[\"congelados\"],[\"belleza-y-cuidado-personal\"],[\"belleza-y-cuidado-personal\"],[\"belleza-y-cuidado-personal\"],[\"belleza-y-cuidado-personal\"],[\"lacteos\"],[\"belleza-y-cuidado-personal\"],[\"lacteos\"],[\"lacteos\"],[\"verduras\"],[\"lacteos\"],[\"congelados\"],[\"belleza-y-cuidado-personal\"],[\"belleza-y-cuidado-personal\"],[\"lacteos\"],[\"belleza-y-cuidado-personal\"],[\"belleza-y-cuidado-personal\"],[\"belleza-y-cuidado-personal\"],[\"lacteos\"],[\"belleza-y-cuidado-personal\"],[\"belleza-y-cuidado-personal\"],[\"lacteos\"],[\"instantaneos-y-sopas\"],[\"comidas-preparadas\"],[\"belleza-y-cuidado-personal\"],[\"lacteos\"],[\"lacteos\"],[\"lacteos\"],[\"congelados\"],[\"instantaneos-y-sopas\"],[\"congelados\"],[\"lacteos\"],[\"lacteos\"],[\"belleza-y-cuidado-personal\"],[\"congelados\"],[\"belleza-y-cuidado-personal\"],[\"verduras\"],[\"belleza-y-cuidado-personal\"],[\"lacteos\"],[\"belleza-y-cuidado-personal\"],[\"instantaneos-y-sopas\"],[\"belleza-y-cuidado-personal\"],[\"congelados\"],[\"instantaneos-y-sopas\"],[\"belleza-y-cuidado-personal\"],[\"congelados\"],[\"instantaneos-y-sopas\"],[\"lacteos\"],[\"belleza-y-cuidado-personal\"],[\"instantaneos-y-sopas\"],[\"lacteos\"],[\"lacteos\"],[\"lacteos\"],[\"belleza-y-cuidado-personal\"],[\"belleza-y-cuidado-personal\"],[\"belleza-y-cuidado-personal\"],[\"congelados\"],[\"congelados\"],[\"congelados\"],[\"lacteos\"],[\"congelados\"],[\"congelados\"],[\"lacteos\"],[\"congelados\"],[\"belleza-y-cuidado-personal\"],[\"lacteos\"],[\"comidas-preparadas\"],[\"belleza-y-cuidado-personal\"],[\"belleza-y-cuidado-personal\"],[\"belleza-y-cuidado-personal\"],[\"congelados\"],[\"lacteos\"],[\"belleza-y-cuidado-personal\"],[\"belleza-y-cuidado-personal\"],[\"lacteos\"],[\"lacteos\"],[\"instantaneos-y-sopas\"],[\"lacteos\"],[\"congelados\"],[\"lacteos\"],[\"lacteos\"],[\"lacteos\"],[\"belleza-y-cuidado-personal\"],[\"belleza-y-cuidado-personal\"],[\"congelados\"],[\"belleza-y-cuidado-personal\"],[\"belleza-y-cuidado-personal\"],[\"belleza-y-cuidado-personal\"],[\"lacteos\"],[\"comidas-preparadas\"],[\"belleza-y-cuidado-personal\"],[\"lacteos\"],[\"congelados\"],[\"lacteos\"],[\"belleza-y-cuidado-personal\"],[\"belleza-y-cuidado-personal\"],[\"frutas\"],[\"comidas-preparadas\"],[\"lacteos\"],[\"lacteos\"],[\"belleza-y-cuidado-personal\"],[\"congelados\"],[\"congelados\"],[\"lacteos\"],[\"lacteos\"],[\"lacteos\"],[\"belleza-y-cuidado-personal\"],[\"congelados\"],[\"instantaneos-y-sopas\"],[\"belleza-y-cuidado-personal\"],[\"congelados\"],[\"belleza-y-cuidado-personal\"],[\"belleza-y-cuidado-personal\"],[\"congelados\"],[\"belleza-y-cuidado-personal\"],[\"congelados\"],[\"congelados\"],[\"belleza-y-cuidado-personal\"],[\"lacteos\"],[\"lacteos\"],[\"comidas-preparadas\"],[\"congelados\"],[\"lacteos\"],[\"belleza-y-cuidado-personal\"],[\"belleza-y-cuidado-personal\"],[\"belleza-y-cuidado-personal\"],[\"belleza-y-cuidado-personal\"],[\"belleza-y-cuidado-personal\"],[\"belleza-y-cuidado-personal\"],[\"congelados\"],[\"congelados\"],[\"lacteos\"],[\"congelados\"],[\"lacteos\"],[\"congelados\"],[\"comidas-preparadas\"],[\"instantaneos-y-sopas\"],[\"lacteos\"],[\"lacteos\"],[\"comidas-preparadas\"],[\"lacteos\"],[\"lacteos\"],[\"congelados\"],[\"congelados\"],[\"belleza-y-cuidado-personal\"],[\"comidas-preparadas\"],[\"congelados\"],[\"frutas\"],[\"instantaneos-y-sopas\"],[\"lacteos\"],[\"verduras\"]],\"domain\":{\"x\":[0.0,1.0],\"y\":[0.0,1.0]},\"hovertemplate\":\"labels=%{label}\\u003cbr\\u003ePreco_Desconto=%{value}\\u003cbr\\u003eparent=%{parent}\\u003cbr\\u003eid=%{id}\\u003cbr\\u003eCategoria=%{customdata[0]}\\u003cextra\\u003e\\u003c\\u002fextra\\u003e\",\"ids\":[\"lacteos\\u002f1+1 Soprole\",\"belleza-y-cuidado-personal\\u002fCotidian\",\"belleza-y-cuidado-personal\\u002fCotosan\",\"lacteos\\u002fCrucina\",\"comidas-preparadas\\u002fCuisine & Co\",\"congelados\\u002fCuisine & Co\",\"instantaneos-y-sopas\\u002fCuisine & Co\",\"lacteos\\u002fCuisine & Co\",\"lacteos\\u002fDanone\",\"lacteos\\u002fDeline\",\"verduras\\u002fDole\",\"belleza-y-cuidado-personal\\u002fDove\",\"belleza-y-cuidado-personal\\u002fDove Men\",\"comidas-preparadas\\u002fCorbac\",\"belleza-y-cuidado-personal\\u002fDural\\u00f3n\",\"belleza-y-cuidado-personal\\u002fElvive\",\"belleza-y-cuidado-personal\\u002fFamiland\",\"belleza-y-cuidado-personal\\u002fFamily Care\",\"congelados\\u002fFiesta\",\"belleza-y-cuidado-personal\\u002fFructis\",\"frutas\\u002fFrutas Y Verduras Propias\",\"verduras\\u002fFrutas Y Verduras Propias\",\"frutas\\u002fFrutas Y Verduras Santa Isabel\",\"congelados\\u002fFrutos Del Maipo\",\"belleza-y-cuidado-personal\\u002fGarnier\",\"belleza-y-cuidado-personal\\u002fGillette\",\"belleza-y-cuidado-personal\\u002fGiselle\",\"belleza-y-cuidado-personal\\u002fElite\",\"lacteos\\u002fCopacabana\",\"belleza-y-cuidado-personal\\u002fDento\",\"lacteos\\u002fCollico\",\"lacteos\\u002fActivia\",\"verduras\\u002fAgrosano\",\"lacteos\\u002fColun\",\"congelados\\u002fAlimentos Shen\",\"belleza-y-cuidado-personal\\u002fAlways\",\"belleza-y-cuidado-personal\\u002fAquafresh\",\"lacteos\\u002fAstra\",\"belleza-y-cuidado-personal\\u002fAxe\",\"belleza-y-cuidado-personal\\u002fBabyland\",\"belleza-y-cuidado-personal\\u002fBallerina\",\"lacteos\\u002fBase Culinar\",\"belleza-y-cuidado-personal\\u002fBellekiss\",\"belleza-y-cuidado-personal\\u002fBiO\",\"lacteos\\u002fBonella\",\"instantaneos-y-sopas\\u002fAlcafood\",\"comidas-preparadas\\u002fBredenmaster\",\"belleza-y-cuidado-personal\\u002fColgate\",\"lacteos\\u002fCintazul\",\"lacteos\\u002fChiquit\\u00edn\",\"lacteos\\u002fChamyto\",\"congelados\\u002fBravissimo\",\"instantaneos-y-sopas\\u002fCarozzi\",\"congelados\\u002fCarte Dor\",\"lacteos\\u002fCalo\",\"lacteos\\u002fCalan\",\"belleza-y-cuidado-personal\\u002fBrooks\",\"congelados\\u002fBresler\",\"belleza-y-cuidado-personal\\u002fCarefree\",\"verduras\\u002fJumbo\",\"belleza-y-cuidado-personal\\u002fIlicit\",\"lacteos\\u002fIdeal\",\"belleza-y-cuidado-personal\\u002fHerbal Essences\",\"instantaneos-y-sopas\\u002fHoffmann\",\"belleza-y-cuidado-personal\\u002fHead & Shoulders\",\"congelados\\u002fGuallarauco\",\"instantaneos-y-sopas\\u002fGourmet\",\"belleza-y-cuidado-personal\\u002fHerbal\",\"congelados\\u002fMister Veggie\",\"instantaneos-y-sopas\\u002fM\\u00e1xima MP\",\"lacteos\\u002fM\\u00e1xima MP\",\"belleza-y-cuidado-personal\\u002fNaturella\",\"instantaneos-y-sopas\\u002fNaturezza\",\"lacteos\\u002fNesquik\",\"lacteos\\u002fNestl\\u00e9\",\"lacteos\\u002fNido\",\"belleza-y-cuidado-personal\\u002fNivea\",\"belleza-y-cuidado-personal\\u002fNivea For Men\",\"belleza-y-cuidado-personal\\u002fNosotras\",\"congelados\\u002fNot Burger\",\"congelados\\u002fNot Chicken\",\"congelados\\u002fMinuto Verde\",\"lacteos\\u002fNext\",\"congelados\\u002fMega\",\"congelados\\u002fMagnum\",\"lacteos\\u002fMarco Polo\",\"congelados\\u002fKing\",\"belleza-y-cuidado-personal\\u002fKotex\",\"lacteos\\u002fKumey\",\"comidas-preparadas\\u002fLa Crianza\",\"belleza-y-cuidado-personal\\u002fLady Speed Stick\",\"belleza-y-cuidado-personal\\u002fLadysoft\",\"belleza-y-cuidado-personal\\u002fLe Sancy\",\"congelados\\u002fLa Crianza\",\"lacteos\\u002fLight & Free\",\"belleza-y-cuidado-personal\\u002fLinic\",\"belleza-y-cuidado-personal\\u002fListerine\",\"lacteos\\u002fLoncoleche\",\"lacteos\\u002fLos Alerces\",\"instantaneos-y-sopas\\u002fMaggi\",\"lacteos\\u002fLefersa\",\"congelados\\u002fNot Ice Cream\",\"lacteos\\u002fNot Milk\",\"lacteos\\u002fOikos\",\"lacteos\\u002fPamperita\",\"belleza-y-cuidado-personal\\u002fPlenitud\",\"belleza-y-cuidado-personal\\u002fPepsodent\",\"congelados\\u002fPF\",\"belleza-y-cuidado-personal\\u002fPantene\",\"belleza-y-cuidado-personal\\u002fOral-B\",\"belleza-y-cuidado-personal\\u002fOral Fresh\",\"lacteos\\u002fOmega 3\",\"comidas-preparadas\\u002fPF\",\"belleza-y-cuidado-personal\\u002fOld Spice\",\"lacteos\\u002fShake A Shake Lonco Leche\",\"congelados\\u002fSuper Beef\",\"lacteos\\u002fSignore Mario\",\"belleza-y-cuidado-personal\\u002fSimond'S\",\"belleza-y-cuidado-personal\\u002fSimonds\",\"frutas\\u002fSofruco\",\"comidas-preparadas\\u002fSolo Italia\",\"lacteos\\u002fSoprole\",\"lacteos\\u002fSoprole Activ\",\"belleza-y-cuidado-personal\\u002fSpeed Stick\",\"congelados\\u002fRock\",\"congelados\\u002fSuper Pollo\",\"lacteos\\u002fSure\\u00f1a\",\"lacteos\\u002fSurlat\",\"lacteos\\u002fSvelty\",\"belleza-y-cuidado-personal\\u002fTena\",\"congelados\\u002fTivoni\",\"instantaneos-y-sopas\\u002fTraverso\",\"belleza-y-cuidado-personal\\u002fTrianon\",\"congelados\\u002fTurkey Hill\",\"belleza-y-cuidado-personal\\u002fT\\u00edo Nacho\",\"belleza-y-cuidado-personal\\u002fSensodyne\",\"congelados\\u002fSuper Cerdo\",\"belleza-y-cuidado-personal\\u002fSedal\",\"congelados\\u002fRik\\u00fc\",\"congelados\\u002fSavory\",\"belleza-y-cuidado-personal\\u002fProtex\",\"lacteos\\u002fQualy\",\"lacteos\\u002fQuillayes\",\"comidas-preparadas\\u002fRana\",\"congelados\\u002fReceta Del Abuelo\",\"lacteos\\u002fRegimel\",\"belleza-y-cuidado-personal\\u002fRexona\",\"belleza-y-cuidado-personal\\u002fRexona Clinical\",\"belleza-y-cuidado-personal\\u002fRexona Men\",\"belleza-y-cuidado-personal\\u002fRexona Men Clinical\",\"belleza-y-cuidado-personal\\u002fSchick\",\"belleza-y-cuidado-personal\\u002fVanart\",\"congelados\\u002fSadia\",\"congelados\\u002fSahne Nuss\",\"lacteos\\u002fSahne Nuss\",\"congelados\\u002fSan Francisco De Loncomilla\",\"lacteos\\u002fSan Ignacio\",\"congelados\\u002fSan Jorge\",\"comidas-preparadas\\u002fSanta Isabel\",\"instantaneos-y-sopas\\u002fSanta Isabel\",\"lacteos\\u002fSanta Isabel\",\"lacteos\\u002fSanta Marta\",\"comidas-preparadas\\u002fSadia\",\"lacteos\\u002fYogu - Yogu\",\"lacteos\\u002fZerolacto\",\"congelados\\u002fViennetta Bresler\",\"congelados\\u002fZole\",\"belleza-y-cuidado-personal\",\"comidas-preparadas\",\"congelados\",\"frutas\",\"instantaneos-y-sopas\",\"lacteos\",\"verduras\"],\"labels\":[\"1+1 Soprole\",\"Cotidian\",\"Cotosan\",\"Crucina\",\"Cuisine & Co\",\"Cuisine & Co\",\"Cuisine & Co\",\"Cuisine & Co\",\"Danone\",\"Deline\",\"Dole\",\"Dove\",\"Dove Men\",\"Corbac\",\"Dural\\u00f3n\",\"Elvive\",\"Familand\",\"Family Care\",\"Fiesta\",\"Fructis\",\"Frutas Y Verduras Propias\",\"Frutas Y Verduras Propias\",\"Frutas Y Verduras Santa Isabel\",\"Frutos Del Maipo\",\"Garnier\",\"Gillette\",\"Giselle\",\"Elite\",\"Copacabana\",\"Dento\",\"Collico\",\"Activia\",\"Agrosano\",\"Colun\",\"Alimentos Shen\",\"Always\",\"Aquafresh\",\"Astra\",\"Axe\",\"Babyland\",\"Ballerina\",\"Base Culinar\",\"Bellekiss\",\"BiO\",\"Bonella\",\"Alcafood\",\"Bredenmaster\",\"Colgate\",\"Cintazul\",\"Chiquit\\u00edn\",\"Chamyto\",\"Bravissimo\",\"Carozzi\",\"Carte Dor\",\"Calo\",\"Calan\",\"Brooks\",\"Bresler\",\"Carefree\",\"Jumbo\",\"Ilicit\",\"Ideal\",\"Herbal Essences\",\"Hoffmann\",\"Head & Shoulders\",\"Guallarauco\",\"Gourmet\",\"Herbal\",\"Mister Veggie\",\"M\\u00e1xima MP\",\"M\\u00e1xima MP\",\"Naturella\",\"Naturezza\",\"Nesquik\",\"Nestl\\u00e9\",\"Nido\",\"Nivea\",\"Nivea For Men\",\"Nosotras\",\"Not Burger\",\"Not Chicken\",\"Minuto Verde\",\"Next\",\"Mega\",\"Magnum\",\"Marco Polo\",\"King\",\"Kotex\",\"Kumey\",\"La Crianza\",\"Lady Speed Stick\",\"Ladysoft\",\"Le Sancy\",\"La Crianza\",\"Light & Free\",\"Linic\",\"Listerine\",\"Loncoleche\",\"Los Alerces\",\"Maggi\",\"Lefersa\",\"Not Ice Cream\",\"Not Milk\",\"Oikos\",\"Pamperita\",\"Plenitud\",\"Pepsodent\",\"PF\",\"Pantene\",\"Oral-B\",\"Oral Fresh\",\"Omega 3\",\"PF\",\"Old Spice\",\"Shake A Shake Lonco Leche\",\"Super Beef\",\"Signore Mario\",\"Simond'S\",\"Simonds\",\"Sofruco\",\"Solo Italia\",\"Soprole\",\"Soprole Activ\",\"Speed Stick\",\"Rock\",\"Super Pollo\",\"Sure\\u00f1a\",\"Surlat\",\"Svelty\",\"Tena\",\"Tivoni\",\"Traverso\",\"Trianon\",\"Turkey Hill\",\"T\\u00edo Nacho\",\"Sensodyne\",\"Super Cerdo\",\"Sedal\",\"Rik\\u00fc\",\"Savory\",\"Protex\",\"Qualy\",\"Quillayes\",\"Rana\",\"Receta Del Abuelo\",\"Regimel\",\"Rexona\",\"Rexona Clinical\",\"Rexona Men\",\"Rexona Men Clinical\",\"Schick\",\"Vanart\",\"Sadia\",\"Sahne Nuss\",\"Sahne Nuss\",\"San Francisco De Loncomilla\",\"San Ignacio\",\"San Jorge\",\"Santa Isabel\",\"Santa Isabel\",\"Santa Isabel\",\"Santa Marta\",\"Sadia\",\"Yogu - Yogu\",\"Zerolacto\",\"Viennetta Bresler\",\"Zole\",\"belleza-y-cuidado-personal\",\"comidas-preparadas\",\"congelados\",\"frutas\",\"instantaneos-y-sopas\",\"lacteos\",\"verduras\"],\"marker\":{\"colors\":[\"#636efa\",\"#EF553B\",\"#EF553B\",\"#636efa\",\"#00cc96\",\"#ab63fa\",\"#FFA15A\",\"#636efa\",\"#636efa\",\"#636efa\",\"#19d3f3\",\"#EF553B\",\"#EF553B\",\"#00cc96\",\"#EF553B\",\"#EF553B\",\"#EF553B\",\"#EF553B\",\"#ab63fa\",\"#EF553B\",\"#FF6692\",\"#19d3f3\",\"#FF6692\",\"#ab63fa\",\"#EF553B\",\"#EF553B\",\"#EF553B\",\"#EF553B\",\"#636efa\",\"#EF553B\",\"#636efa\",\"#636efa\",\"#19d3f3\",\"#636efa\",\"#ab63fa\",\"#EF553B\",\"#EF553B\",\"#636efa\",\"#EF553B\",\"#EF553B\",\"#EF553B\",\"#636efa\",\"#EF553B\",\"#EF553B\",\"#636efa\",\"#FFA15A\",\"#00cc96\",\"#EF553B\",\"#636efa\",\"#636efa\",\"#636efa\",\"#ab63fa\",\"#FFA15A\",\"#ab63fa\",\"#636efa\",\"#636efa\",\"#EF553B\",\"#ab63fa\",\"#EF553B\",\"#19d3f3\",\"#EF553B\",\"#636efa\",\"#EF553B\",\"#FFA15A\",\"#EF553B\",\"#ab63fa\",\"#FFA15A\",\"#EF553B\",\"#ab63fa\",\"#FFA15A\",\"#636efa\",\"#EF553B\",\"#FFA15A\",\"#636efa\",\"#636efa\",\"#636efa\",\"#EF553B\",\"#EF553B\",\"#EF553B\",\"#ab63fa\",\"#ab63fa\",\"#ab63fa\",\"#636efa\",\"#ab63fa\",\"#ab63fa\",\"#636efa\",\"#ab63fa\",\"#EF553B\",\"#636efa\",\"#00cc96\",\"#EF553B\",\"#EF553B\",\"#EF553B\",\"#ab63fa\",\"#636efa\",\"#EF553B\",\"#EF553B\",\"#636efa\",\"#636efa\",\"#FFA15A\",\"#636efa\",\"#ab63fa\",\"#636efa\",\"#636efa\",\"#636efa\",\"#EF553B\",\"#EF553B\",\"#ab63fa\",\"#EF553B\",\"#EF553B\",\"#EF553B\",\"#636efa\",\"#00cc96\",\"#EF553B\",\"#636efa\",\"#ab63fa\",\"#636efa\",\"#EF553B\",\"#EF553B\",\"#FF6692\",\"#00cc96\",\"#636efa\",\"#636efa\",\"#EF553B\",\"#ab63fa\",\"#ab63fa\",\"#636efa\",\"#636efa\",\"#636efa\",\"#EF553B\",\"#ab63fa\",\"#FFA15A\",\"#EF553B\",\"#ab63fa\",\"#EF553B\",\"#EF553B\",\"#ab63fa\",\"#EF553B\",\"#ab63fa\",\"#ab63fa\",\"#EF553B\",\"#636efa\",\"#636efa\",\"#00cc96\",\"#ab63fa\",\"#636efa\",\"#EF553B\",\"#EF553B\",\"#EF553B\",\"#EF553B\",\"#EF553B\",\"#EF553B\",\"#ab63fa\",\"#ab63fa\",\"#636efa\",\"#ab63fa\",\"#636efa\",\"#ab63fa\",\"#00cc96\",\"#FFA15A\",\"#636efa\",\"#636efa\",\"#00cc96\",\"#636efa\",\"#636efa\",\"#ab63fa\",\"#ab63fa\",\"#EF553B\",\"#00cc96\",\"#ab63fa\",\"#FF6692\",\"#FFA15A\",\"#636efa\",\"#19d3f3\"]},\"name\":\"\",\"parents\":[\"lacteos\",\"belleza-y-cuidado-personal\",\"belleza-y-cuidado-personal\",\"lacteos\",\"comidas-preparadas\",\"congelados\",\"instantaneos-y-sopas\",\"lacteos\",\"lacteos\",\"lacteos\",\"verduras\",\"belleza-y-cuidado-personal\",\"belleza-y-cuidado-personal\",\"comidas-preparadas\",\"belleza-y-cuidado-personal\",\"belleza-y-cuidado-personal\",\"belleza-y-cuidado-personal\",\"belleza-y-cuidado-personal\",\"congelados\",\"belleza-y-cuidado-personal\",\"frutas\",\"verduras\",\"frutas\",\"congelados\",\"belleza-y-cuidado-personal\",\"belleza-y-cuidado-personal\",\"belleza-y-cuidado-personal\",\"belleza-y-cuidado-personal\",\"lacteos\",\"belleza-y-cuidado-personal\",\"lacteos\",\"lacteos\",\"verduras\",\"lacteos\",\"congelados\",\"belleza-y-cuidado-personal\",\"belleza-y-cuidado-personal\",\"lacteos\",\"belleza-y-cuidado-personal\",\"belleza-y-cuidado-personal\",\"belleza-y-cuidado-personal\",\"lacteos\",\"belleza-y-cuidado-personal\",\"belleza-y-cuidado-personal\",\"lacteos\",\"instantaneos-y-sopas\",\"comidas-preparadas\",\"belleza-y-cuidado-personal\",\"lacteos\",\"lacteos\",\"lacteos\",\"congelados\",\"instantaneos-y-sopas\",\"congelados\",\"lacteos\",\"lacteos\",\"belleza-y-cuidado-personal\",\"congelados\",\"belleza-y-cuidado-personal\",\"verduras\",\"belleza-y-cuidado-personal\",\"lacteos\",\"belleza-y-cuidado-personal\",\"instantaneos-y-sopas\",\"belleza-y-cuidado-personal\",\"congelados\",\"instantaneos-y-sopas\",\"belleza-y-cuidado-personal\",\"congelados\",\"instantaneos-y-sopas\",\"lacteos\",\"belleza-y-cuidado-personal\",\"instantaneos-y-sopas\",\"lacteos\",\"lacteos\",\"lacteos\",\"belleza-y-cuidado-personal\",\"belleza-y-cuidado-personal\",\"belleza-y-cuidado-personal\",\"congelados\",\"congelados\",\"congelados\",\"lacteos\",\"congelados\",\"congelados\",\"lacteos\",\"congelados\",\"belleza-y-cuidado-personal\",\"lacteos\",\"comidas-preparadas\",\"belleza-y-cuidado-personal\",\"belleza-y-cuidado-personal\",\"belleza-y-cuidado-personal\",\"congelados\",\"lacteos\",\"belleza-y-cuidado-personal\",\"belleza-y-cuidado-personal\",\"lacteos\",\"lacteos\",\"instantaneos-y-sopas\",\"lacteos\",\"congelados\",\"lacteos\",\"lacteos\",\"lacteos\",\"belleza-y-cuidado-personal\",\"belleza-y-cuidado-personal\",\"congelados\",\"belleza-y-cuidado-personal\",\"belleza-y-cuidado-personal\",\"belleza-y-cuidado-personal\",\"lacteos\",\"comidas-preparadas\",\"belleza-y-cuidado-personal\",\"lacteos\",\"congelados\",\"lacteos\",\"belleza-y-cuidado-personal\",\"belleza-y-cuidado-personal\",\"frutas\",\"comidas-preparadas\",\"lacteos\",\"lacteos\",\"belleza-y-cuidado-personal\",\"congelados\",\"congelados\",\"lacteos\",\"lacteos\",\"lacteos\",\"belleza-y-cuidado-personal\",\"congelados\",\"instantaneos-y-sopas\",\"belleza-y-cuidado-personal\",\"congelados\",\"belleza-y-cuidado-personal\",\"belleza-y-cuidado-personal\",\"congelados\",\"belleza-y-cuidado-personal\",\"congelados\",\"congelados\",\"belleza-y-cuidado-personal\",\"lacteos\",\"lacteos\",\"comidas-preparadas\",\"congelados\",\"lacteos\",\"belleza-y-cuidado-personal\",\"belleza-y-cuidado-personal\",\"belleza-y-cuidado-personal\",\"belleza-y-cuidado-personal\",\"belleza-y-cuidado-personal\",\"belleza-y-cuidado-personal\",\"congelados\",\"congelados\",\"lacteos\",\"congelados\",\"lacteos\",\"congelados\",\"comidas-preparadas\",\"instantaneos-y-sopas\",\"lacteos\",\"lacteos\",\"comidas-preparadas\",\"lacteos\",\"lacteos\",\"congelados\",\"congelados\",\"\",\"\",\"\",\"\",\"\",\"\",\"\"],\"values\":[615.0,13899.0,0.0,0.0,945.7894736842105,1231.7142857142858,0.0,108.63636363636364,31.0,0.0,0.0,1708.2666666666667,1537.25,0.0,0.0,1265.2222222222222,0.0,0.0,0.0,2227.0,0.0,0.0,0.0,673.3333333333334,0.0,0.0,0.0,2293.0,0.0,0.0,0.0,74.16666666666667,0.0,157.26436781609195,0.0,701.0,1778.3333333333333,0.0,2179.0,0.0,104.16666666666667,0.0,0.0,1949.0,0.0,0.0,0.0,654.7619047619048,0.0,0.0,0.0,0.0,0.0,2027.0,0.0,0.0,0.0,2041.2142857142858,656.6666666666666,0.0,0.0,0.0,4599.0,0.0,0.0,0.0,329.25,0.0,0.0,0.0,0.0,0.0,0.0,0.0,166.95348837209303,2910.0,1193.0833333333333,2669.0,413.72727272727275,1089.0,0.0,107.85,1499.25,3722.0,4054.0,0.0,0.0,891.5,0.0,0.0,996.6666666666666,496.6666666666667,0.0,0.0,186.0,0.0,0.0,69.7,0.0,192.39285714285714,0.0,4285.0,639.0,0.0,0.0,0.0,1641.6666666666667,0.0,1705.7142857142858,265.8888888888889,2393.0,0.0,1356.0,0.0,0.0,529.0,0.0,0.0,2190.0,0.0,0.0,234.1078431372549,0.0,0.0,0.0,0.0,1043.5,0.0,0.0,0.0,0.0,0.0,0.0,0.0,4990.0,0.0,0.0,3226.3333333333335,0.0,1872.34375,995.0,0.0,0.0,0.0,0.0,0.0,2289.0,4504.0,2289.0,4504.0,0.0,2690.0,0.0,930.5,0.0,0.0,0.0,274.5,0.0,0.0,0.0,1025.0,0.0,0.0,0.0,3093.0,0.0,75895.91457431458,2301.7894736842104,25930.455654761907,0.0,521.6428571428571,8759.57872962847,0.0],\"type\":\"treemap\"}],                        {\"template\":{\"data\":{\"histogram2dcontour\":[{\"type\":\"histogram2dcontour\",\"colorbar\":{\"outlinewidth\":0,\"ticks\":\"\"},\"colorscale\":[[0.0,\"#0d0887\"],[0.1111111111111111,\"#46039f\"],[0.2222222222222222,\"#7201a8\"],[0.3333333333333333,\"#9c179e\"],[0.4444444444444444,\"#bd3786\"],[0.5555555555555556,\"#d8576b\"],[0.6666666666666666,\"#ed7953\"],[0.7777777777777778,\"#fb9f3a\"],[0.8888888888888888,\"#fdca26\"],[1.0,\"#f0f921\"]]}],\"choropleth\":[{\"type\":\"choropleth\",\"colorbar\":{\"outlinewidth\":0,\"ticks\":\"\"}}],\"histogram2d\":[{\"type\":\"histogram2d\",\"colorbar\":{\"outlinewidth\":0,\"ticks\":\"\"},\"colorscale\":[[0.0,\"#0d0887\"],[0.1111111111111111,\"#46039f\"],[0.2222222222222222,\"#7201a8\"],[0.3333333333333333,\"#9c179e\"],[0.4444444444444444,\"#bd3786\"],[0.5555555555555556,\"#d8576b\"],[0.6666666666666666,\"#ed7953\"],[0.7777777777777778,\"#fb9f3a\"],[0.8888888888888888,\"#fdca26\"],[1.0,\"#f0f921\"]]}],\"heatmap\":[{\"type\":\"heatmap\",\"colorbar\":{\"outlinewidth\":0,\"ticks\":\"\"},\"colorscale\":[[0.0,\"#0d0887\"],[0.1111111111111111,\"#46039f\"],[0.2222222222222222,\"#7201a8\"],[0.3333333333333333,\"#9c179e\"],[0.4444444444444444,\"#bd3786\"],[0.5555555555555556,\"#d8576b\"],[0.6666666666666666,\"#ed7953\"],[0.7777777777777778,\"#fb9f3a\"],[0.8888888888888888,\"#fdca26\"],[1.0,\"#f0f921\"]]}],\"heatmapgl\":[{\"type\":\"heatmapgl\",\"colorbar\":{\"outlinewidth\":0,\"ticks\":\"\"},\"colorscale\":[[0.0,\"#0d0887\"],[0.1111111111111111,\"#46039f\"],[0.2222222222222222,\"#7201a8\"],[0.3333333333333333,\"#9c179e\"],[0.4444444444444444,\"#bd3786\"],[0.5555555555555556,\"#d8576b\"],[0.6666666666666666,\"#ed7953\"],[0.7777777777777778,\"#fb9f3a\"],[0.8888888888888888,\"#fdca26\"],[1.0,\"#f0f921\"]]}],\"contourcarpet\":[{\"type\":\"contourcarpet\",\"colorbar\":{\"outlinewidth\":0,\"ticks\":\"\"}}],\"contour\":[{\"type\":\"contour\",\"colorbar\":{\"outlinewidth\":0,\"ticks\":\"\"},\"colorscale\":[[0.0,\"#0d0887\"],[0.1111111111111111,\"#46039f\"],[0.2222222222222222,\"#7201a8\"],[0.3333333333333333,\"#9c179e\"],[0.4444444444444444,\"#bd3786\"],[0.5555555555555556,\"#d8576b\"],[0.6666666666666666,\"#ed7953\"],[0.7777777777777778,\"#fb9f3a\"],[0.8888888888888888,\"#fdca26\"],[1.0,\"#f0f921\"]]}],\"surface\":[{\"type\":\"surface\",\"colorbar\":{\"outlinewidth\":0,\"ticks\":\"\"},\"colorscale\":[[0.0,\"#0d0887\"],[0.1111111111111111,\"#46039f\"],[0.2222222222222222,\"#7201a8\"],[0.3333333333333333,\"#9c179e\"],[0.4444444444444444,\"#bd3786\"],[0.5555555555555556,\"#d8576b\"],[0.6666666666666666,\"#ed7953\"],[0.7777777777777778,\"#fb9f3a\"],[0.8888888888888888,\"#fdca26\"],[1.0,\"#f0f921\"]]}],\"mesh3d\":[{\"type\":\"mesh3d\",\"colorbar\":{\"outlinewidth\":0,\"ticks\":\"\"}}],\"scatter\":[{\"fillpattern\":{\"fillmode\":\"overlay\",\"size\":10,\"solidity\":0.2},\"type\":\"scatter\"}],\"parcoords\":[{\"type\":\"parcoords\",\"line\":{\"colorbar\":{\"outlinewidth\":0,\"ticks\":\"\"}}}],\"scatterpolargl\":[{\"type\":\"scatterpolargl\",\"marker\":{\"colorbar\":{\"outlinewidth\":0,\"ticks\":\"\"}}}],\"bar\":[{\"error_x\":{\"color\":\"#2a3f5f\"},\"error_y\":{\"color\":\"#2a3f5f\"},\"marker\":{\"line\":{\"color\":\"#E5ECF6\",\"width\":0.5},\"pattern\":{\"fillmode\":\"overlay\",\"size\":10,\"solidity\":0.2}},\"type\":\"bar\"}],\"scattergeo\":[{\"type\":\"scattergeo\",\"marker\":{\"colorbar\":{\"outlinewidth\":0,\"ticks\":\"\"}}}],\"scatterpolar\":[{\"type\":\"scatterpolar\",\"marker\":{\"colorbar\":{\"outlinewidth\":0,\"ticks\":\"\"}}}],\"histogram\":[{\"marker\":{\"pattern\":{\"fillmode\":\"overlay\",\"size\":10,\"solidity\":0.2}},\"type\":\"histogram\"}],\"scattergl\":[{\"type\":\"scattergl\",\"marker\":{\"colorbar\":{\"outlinewidth\":0,\"ticks\":\"\"}}}],\"scatter3d\":[{\"type\":\"scatter3d\",\"line\":{\"colorbar\":{\"outlinewidth\":0,\"ticks\":\"\"}},\"marker\":{\"colorbar\":{\"outlinewidth\":0,\"ticks\":\"\"}}}],\"scattermapbox\":[{\"type\":\"scattermapbox\",\"marker\":{\"colorbar\":{\"outlinewidth\":0,\"ticks\":\"\"}}}],\"scatterternary\":[{\"type\":\"scatterternary\",\"marker\":{\"colorbar\":{\"outlinewidth\":0,\"ticks\":\"\"}}}],\"scattercarpet\":[{\"type\":\"scattercarpet\",\"marker\":{\"colorbar\":{\"outlinewidth\":0,\"ticks\":\"\"}}}],\"carpet\":[{\"aaxis\":{\"endlinecolor\":\"#2a3f5f\",\"gridcolor\":\"white\",\"linecolor\":\"white\",\"minorgridcolor\":\"white\",\"startlinecolor\":\"#2a3f5f\"},\"baxis\":{\"endlinecolor\":\"#2a3f5f\",\"gridcolor\":\"white\",\"linecolor\":\"white\",\"minorgridcolor\":\"white\",\"startlinecolor\":\"#2a3f5f\"},\"type\":\"carpet\"}],\"table\":[{\"cells\":{\"fill\":{\"color\":\"#EBF0F8\"},\"line\":{\"color\":\"white\"}},\"header\":{\"fill\":{\"color\":\"#C8D4E3\"},\"line\":{\"color\":\"white\"}},\"type\":\"table\"}],\"barpolar\":[{\"marker\":{\"line\":{\"color\":\"#E5ECF6\",\"width\":0.5},\"pattern\":{\"fillmode\":\"overlay\",\"size\":10,\"solidity\":0.2}},\"type\":\"barpolar\"}],\"pie\":[{\"automargin\":true,\"type\":\"pie\"}]},\"layout\":{\"autotypenumbers\":\"strict\",\"colorway\":[\"#636efa\",\"#EF553B\",\"#00cc96\",\"#ab63fa\",\"#FFA15A\",\"#19d3f3\",\"#FF6692\",\"#B6E880\",\"#FF97FF\",\"#FECB52\"],\"font\":{\"color\":\"#2a3f5f\"},\"hovermode\":\"closest\",\"hoverlabel\":{\"align\":\"left\"},\"paper_bgcolor\":\"white\",\"plot_bgcolor\":\"#E5ECF6\",\"polar\":{\"bgcolor\":\"#E5ECF6\",\"angularaxis\":{\"gridcolor\":\"white\",\"linecolor\":\"white\",\"ticks\":\"\"},\"radialaxis\":{\"gridcolor\":\"white\",\"linecolor\":\"white\",\"ticks\":\"\"}},\"ternary\":{\"bgcolor\":\"#E5ECF6\",\"aaxis\":{\"gridcolor\":\"white\",\"linecolor\":\"white\",\"ticks\":\"\"},\"baxis\":{\"gridcolor\":\"white\",\"linecolor\":\"white\",\"ticks\":\"\"},\"caxis\":{\"gridcolor\":\"white\",\"linecolor\":\"white\",\"ticks\":\"\"}},\"coloraxis\":{\"colorbar\":{\"outlinewidth\":0,\"ticks\":\"\"}},\"colorscale\":{\"sequential\":[[0.0,\"#0d0887\"],[0.1111111111111111,\"#46039f\"],[0.2222222222222222,\"#7201a8\"],[0.3333333333333333,\"#9c179e\"],[0.4444444444444444,\"#bd3786\"],[0.5555555555555556,\"#d8576b\"],[0.6666666666666666,\"#ed7953\"],[0.7777777777777778,\"#fb9f3a\"],[0.8888888888888888,\"#fdca26\"],[1.0,\"#f0f921\"]],\"sequentialminus\":[[0.0,\"#0d0887\"],[0.1111111111111111,\"#46039f\"],[0.2222222222222222,\"#7201a8\"],[0.3333333333333333,\"#9c179e\"],[0.4444444444444444,\"#bd3786\"],[0.5555555555555556,\"#d8576b\"],[0.6666666666666666,\"#ed7953\"],[0.7777777777777778,\"#fb9f3a\"],[0.8888888888888888,\"#fdca26\"],[1.0,\"#f0f921\"]],\"diverging\":[[0,\"#8e0152\"],[0.1,\"#c51b7d\"],[0.2,\"#de77ae\"],[0.3,\"#f1b6da\"],[0.4,\"#fde0ef\"],[0.5,\"#f7f7f7\"],[0.6,\"#e6f5d0\"],[0.7,\"#b8e186\"],[0.8,\"#7fbc41\"],[0.9,\"#4d9221\"],[1,\"#276419\"]]},\"xaxis\":{\"gridcolor\":\"white\",\"linecolor\":\"white\",\"ticks\":\"\",\"title\":{\"standoff\":15},\"zerolinecolor\":\"white\",\"automargin\":true,\"zerolinewidth\":2},\"yaxis\":{\"gridcolor\":\"white\",\"linecolor\":\"white\",\"ticks\":\"\",\"title\":{\"standoff\":15},\"zerolinecolor\":\"white\",\"automargin\":true,\"zerolinewidth\":2},\"scene\":{\"xaxis\":{\"backgroundcolor\":\"#E5ECF6\",\"gridcolor\":\"white\",\"linecolor\":\"white\",\"showbackground\":true,\"ticks\":\"\",\"zerolinecolor\":\"white\",\"gridwidth\":2},\"yaxis\":{\"backgroundcolor\":\"#E5ECF6\",\"gridcolor\":\"white\",\"linecolor\":\"white\",\"showbackground\":true,\"ticks\":\"\",\"zerolinecolor\":\"white\",\"gridwidth\":2},\"zaxis\":{\"backgroundcolor\":\"#E5ECF6\",\"gridcolor\":\"white\",\"linecolor\":\"white\",\"showbackground\":true,\"ticks\":\"\",\"zerolinecolor\":\"white\",\"gridwidth\":2}},\"shapedefaults\":{\"line\":{\"color\":\"#2a3f5f\"}},\"annotationdefaults\":{\"arrowcolor\":\"#2a3f5f\",\"arrowhead\":0,\"arrowwidth\":1},\"geo\":{\"bgcolor\":\"white\",\"landcolor\":\"#E5ECF6\",\"subunitcolor\":\"white\",\"showland\":true,\"showlakes\":true,\"lakecolor\":\"white\"},\"title\":{\"x\":0.05},\"mapbox\":{\"style\":\"light\"}}},\"legend\":{\"tracegroupgap\":0},\"title\":{\"text\":\"Dados por Categoria, Marca e M\\u00e9dia de Desconto\"}},                        {\"responsive\": true}                    ).then(function(){\n",
       "                            \n",
       "var gd = document.getElementById('53de32e4-e24c-4f3b-adc5-497f39e55d05');\n",
       "var x = new MutationObserver(function (mutations, observer) {{\n",
       "        var display = window.getComputedStyle(gd).display;\n",
       "        if (!display || display === 'none') {{\n",
       "            console.log([gd, 'removed!']);\n",
       "            Plotly.purge(gd);\n",
       "            observer.disconnect();\n",
       "        }}\n",
       "}});\n",
       "\n",
       "// Listen for the removal of the full notebook cells\n",
       "var notebookContainer = gd.closest('#notebook-container');\n",
       "if (notebookContainer) {{\n",
       "    x.observe(notebookContainer, {childList: true});\n",
       "}}\n",
       "\n",
       "// Listen for the clearing of the current output cell\n",
       "var outputEl = gd.closest('.output');\n",
       "if (outputEl) {{\n",
       "    x.observe(outputEl, {childList: true});\n",
       "}}\n",
       "\n",
       "                        })                };                });            </script>        </div>"
      ]
     },
     "metadata": {},
     "output_type": "display_data"
    }
   ],
   "source": [
    "# Seu código aqui\n",
    "categoria_marca = df.groupby(['Categoria', 'Marca'])['Preco_Desconto'].mean().reset_index()\n",
    "\n",
    "fig = px.treemap(categoria_marca,\n",
    "                 path=['Categoria', 'Marca'],\n",
    "                 values='Preco_Desconto',\n",
    "                 title='Dados por Categoria, Marca e Média de Desconto',\n",
    "                 color='Categoria')\n",
    "# Exibindo o gráfi\n",
    "fig.show()"
   ]
  },
  {
   "cell_type": "code",
   "execution_count": null,
   "metadata": {},
   "outputs": [],
   "source": []
  }
 ],
 "metadata": {
  "colab": {
   "provenance": []
  },
  "kernelspec": {
   "display_name": "Python 3 (ipykernel)",
   "language": "python",
   "name": "python3"
  },
  "language_info": {
   "codemirror_mode": {
    "name": "ipython",
    "version": 3
   },
   "file_extension": ".py",
   "mimetype": "text/x-python",
   "name": "python",
   "nbconvert_exporter": "python",
   "pygments_lexer": "ipython3",
   "version": "3.12.7"
  }
 },
 "nbformat": 4,
 "nbformat_minor": 4
}
